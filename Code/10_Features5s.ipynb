{
  "nbformat": 4,
  "nbformat_minor": 0,
  "metadata": {
    "colab": {
      "provenance": []
    },
    "kernelspec": {
      "name": "python3",
      "display_name": "Python 3"
    },
    "language_info": {
      "name": "python"
    }
  },
  "cells": [
    {
      "cell_type": "code",
      "source": [
        "from google.colab import drive\n",
        "drive.mount('/content/drive')"
      ],
      "metadata": {
        "colab": {
          "base_uri": "https://localhost:8080/"
        },
        "id": "68ebsLVY27Fi",
        "outputId": "1a124edb-1353-4c51-8b46-992309f8b385"
      },
      "execution_count": null,
      "outputs": [
        {
          "output_type": "stream",
          "name": "stdout",
          "text": [
            "Mounted at /content/drive\n"
          ]
        }
      ]
    },
    {
      "cell_type": "code",
      "execution_count": null,
      "metadata": {
        "colab": {
          "base_uri": "https://localhost:8080/"
        },
        "id": "UgxRUuhV2yM-",
        "outputId": "6f03d609-03c9-4d28-de3c-b51050bbedb8"
      },
      "outputs": [
        {
          "output_type": "stream",
          "name": "stdout",
          "text": [
            "Total segments loaded: 853\n",
            "Sample segment: [[30.1185 -98.7709 -225.4447 ... 13.5285 -5.1689 -151.6765]\n",
            " [34.385 -105.6602 -176.2197 ... 10.3448 -14.044 -145.6031]\n",
            " [29.2237 -104.638 -158.7393 ... 0.7427 -19.204 -146.3018]\n",
            " ...\n",
            " [-1492.4415 2201.3511 1701.4327 ... -265.2208 1477.7418 139.9815]\n",
            " [-1696.6747 2532.1211 1735.0332 ... -281.5099 1696.9547 191.825]\n",
            " [-1761.7854 2661.7756 1789.5831 ... -263.3668 1793.6367 229.0546]]\n"
          ]
        }
      ],
      "source": [
        "import numpy as np\n",
        "input_file_all = '/content/drive/MyDrive/Project/ExtractedSegments.npy'\n",
        "\n",
        "# Load the array from the .npy file\n",
        "loaded_segments = np.load(input_file_all, allow_pickle=True)  # Use allow_pickle=True if the array contains objects\n",
        "\n",
        "# Display the total number of segments loaded and a sample segment\n",
        "print(f'Total segments loaded: {len(loaded_segments)}')\n",
        "print(f'Sample segment: {loaded_segments[0]}')"
      ]
    },
    {
      "cell_type": "code",
      "source": [
        "loaded_segments[0].shape"
      ],
      "metadata": {
        "colab": {
          "base_uri": "https://localhost:8080/"
        },
        "id": "Jkye06VUg2GD",
        "outputId": "64523903-d2ea-4035-a71e-fb1213955524"
      },
      "execution_count": null,
      "outputs": [
        {
          "output_type": "execute_result",
          "data": {
            "text/plain": [
              "(625, 16)"
            ]
          },
          "metadata": {},
          "execution_count": 23
        }
      ]
    },
    {
      "cell_type": "code",
      "source": [
        "import numpy as np\n",
        "\n",
        "# Specify the file path\n",
        "input_file_all = '/content/drive/MyDrive/Project/ExtractedLabels.npy'\n",
        "\n",
        "# Load the array from the .npy file\n",
        "loaded_labels = np.load(input_file_all, allow_pickle=True)  # Use allow_pickle=True if the array contains objects\n",
        "\n",
        "# Display the total number of segments loaded and a sample segment\n",
        "print(f'Total Labels loaded: {len(loaded_labels)}')\n",
        "print(f'Sample Label: {loaded_labels[0]}')"
      ],
      "metadata": {
        "colab": {
          "base_uri": "https://localhost:8080/"
        },
        "id": "luTr96Cd3JsS",
        "outputId": "fad828a1-87db-4a4a-d169-999c8ca9f19a"
      },
      "execution_count": null,
      "outputs": [
        {
          "output_type": "stream",
          "name": "stdout",
          "text": [
            "Total Labels loaded: 853\n",
            "Sample Label: Walking\n"
          ]
        }
      ]
    },
    {
      "cell_type": "code",
      "source": [
        "loaded_segments[0].shape"
      ],
      "metadata": {
        "colab": {
          "base_uri": "https://localhost:8080/"
        },
        "id": "v_gQXqOWASnY",
        "outputId": "3ad31310-030b-49d8-e3d5-f5aa80885208"
      },
      "execution_count": null,
      "outputs": [
        {
          "output_type": "execute_result",
          "data": {
            "text/plain": [
              "(625, 16)"
            ]
          },
          "metadata": {},
          "execution_count": 4
        }
      ]
    },
    {
      "cell_type": "code",
      "source": [
        "data = loaded_segments"
      ],
      "metadata": {
        "id": "2O65oS4E3P_s"
      },
      "execution_count": null,
      "outputs": []
    },
    {
      "cell_type": "markdown",
      "source": [
        "I have a date with dimensions (625, 16). 16 represents 16 channels, and 625 represents different time frames."
      ],
      "metadata": {
        "id": "PuYGHqWG3z-y"
      }
    },
    {
      "cell_type": "code",
      "source": [
        "import numpy as np\n",
        "\n",
        "def compute_mean(data):\n",
        "    return np.mean(data, axis=0)\n",
        "\n",
        "mean_features = np.array([compute_mean(subject_data) for subject_data in loaded_segments])"
      ],
      "metadata": {
        "id": "nFphIJUV6o6-"
      },
      "execution_count": null,
      "outputs": []
    },
    {
      "cell_type": "code",
      "source": [
        "def compute_variance(data):\n",
        "    return np.var(data, axis=0)\n",
        "\n",
        "variance_features = np.array([compute_variance(subject_data) for subject_data in loaded_segments])"
      ],
      "metadata": {
        "id": "sc_oD4636qnD"
      },
      "execution_count": null,
      "outputs": []
    },
    {
      "cell_type": "markdown",
      "source": [
        "Mean of Absolute First Difference"
      ],
      "metadata": {
        "id": "gjnhtNfL6_Gs"
      }
    },
    {
      "cell_type": "code",
      "source": [
        "def compute_first_diff(data):\n",
        "    return np.mean(np.abs(np.diff(data, axis=0)), axis=0)\n",
        "\n",
        "first_diff_features = np.array([compute_first_diff(subject_data) for subject_data in loaded_segments])"
      ],
      "metadata": {
        "id": "Jr1x15OY6uFf"
      },
      "execution_count": null,
      "outputs": []
    },
    {
      "cell_type": "markdown",
      "source": [
        "Mean of Absolute Second Difference"
      ],
      "metadata": {
        "id": "HE5Vi6sO7AiG"
      }
    },
    {
      "cell_type": "code",
      "source": [
        "def compute_second_diff(data):\n",
        "    return np.mean(np.abs(np.diff(data, n=2, axis=0)), axis=0)\n",
        "\n",
        "second_diff_features = np.array([compute_second_diff(subject_data) for subject_data in loaded_segments])"
      ],
      "metadata": {
        "id": "oRblx62C64kd"
      },
      "execution_count": null,
      "outputs": []
    },
    {
      "cell_type": "code",
      "source": [
        "combined_time_features = np.concatenate(\n",
        "    [mean_features, variance_features, first_diff_features, second_diff_features], axis=1)"
      ],
      "metadata": {
        "id": "BEFyDmQE7Kla"
      },
      "execution_count": null,
      "outputs": []
    },
    {
      "cell_type": "code",
      "source": [
        "combined_time_features.shape"
      ],
      "metadata": {
        "colab": {
          "base_uri": "https://localhost:8080/"
        },
        "id": "RZyPctcHO3kx",
        "outputId": "9fe96b6b-2583-4901-90d8-5dbbdd910aad"
      },
      "execution_count": null,
      "outputs": [
        {
          "output_type": "execute_result",
          "data": {
            "text/plain": [
              "(853, 64)"
            ]
          },
          "metadata": {},
          "execution_count": 11
        }
      ]
    },
    {
      "cell_type": "code",
      "source": [
        "loaded_labels.shape"
      ],
      "metadata": {
        "colab": {
          "base_uri": "https://localhost:8080/"
        },
        "id": "lPnTj_-GPpm_",
        "outputId": "b94fde12-1b61-4aed-9e01-e1cedc46b876"
      },
      "execution_count": null,
      "outputs": [
        {
          "output_type": "execute_result",
          "data": {
            "text/plain": [
              "(853,)"
            ]
          },
          "metadata": {},
          "execution_count": 12
        }
      ]
    },
    {
      "cell_type": "code",
      "source": [
        "import numpy as np\n",
        "import pandas as pd\n",
        "import matplotlib.pyplot as plt\n",
        "from sklearn.model_selection import train_test_split\n",
        "from sklearn.preprocessing import StandardScaler\n",
        "from sklearn.linear_model import LogisticRegression\n",
        "from sklearn.metrics import accuracy_score, classification_report, confusion_matrix\n",
        "\n",
        "# Assuming combined_time_features and loaded_labels are defined\n",
        "# combined_time_features should be a 2D numpy array or DataFrame with shape (853, 64)\n",
        "# loaded_labels should be a 1D array with shape (853,)\n",
        "\n",
        "# Split the dataset into training and testing sets\n",
        "X_train, X_test, y_train, y_test = train_test_split(combined_time_features, loaded_labels, test_size=0.2, random_state=42)\n",
        "\n",
        "# Scale the features\n",
        "scaler = StandardScaler()\n",
        "X_train_scaled = scaler.fit_transform(X_train)\n",
        "X_test_scaled = scaler.transform(X_test)\n",
        "\n",
        "# Create and train the Logistic Regression model\n",
        "model = LogisticRegression(max_iter=1000)  # Increase max_iter if needed\n",
        "model.fit(X_train_scaled, y_train)\n",
        "\n",
        "# Make predictions on the test set\n",
        "y_pred = model.predict(X_test_scaled)\n",
        "\n",
        "# Evaluate the model\n",
        "accuracy = accuracy_score(y_test, y_pred)\n",
        "conf_matrix = confusion_matrix(y_test, y_pred)\n",
        "clf_report = classification_report(y_test, y_pred)\n",
        "\n",
        "# Print the results\n",
        "print(f\"Accuracy: {accuracy:.2f}\")\n",
        "print(\"Confusion Matrix:\")\n",
        "print(conf_matrix)\n",
        "print(\"Classification Report:\")\n",
        "print(clf_report)\n",
        "\n",
        "# Visualize the confusion matrix\n",
        "plt.figure(figsize=(8, 6))\n",
        "plt.imshow(conf_matrix, interpolation='nearest', cmap=plt.cm.Blues)\n",
        "plt.title('Confusion Matrix')\n",
        "plt.colorbar()\n",
        "tick_marks = np.arange(len(np.unique(loaded_labels)))  # Adjust for number of classes\n",
        "plt.xticks(tick_marks, np.unique(loaded_labels), rotation=45)\n",
        "plt.yticks(tick_marks, np.unique(loaded_labels))\n",
        "plt.ylabel('True label')\n",
        "plt.xlabel('Predicted label')\n",
        "plt.tight_layout()\n",
        "plt.show()"
      ],
      "metadata": {
        "colab": {
          "base_uri": "https://localhost:8080/",
          "height": 1000
        },
        "id": "gbqQ3V2zPc40",
        "outputId": "1be4fae0-60cc-42fa-c9e4-77a484358bcc"
      },
      "execution_count": null,
      "outputs": [
        {
          "output_type": "stream",
          "name": "stderr",
          "text": [
            "/usr/local/lib/python3.10/dist-packages/sklearn/metrics/_classification.py:1531: UndefinedMetricWarning: Precision is ill-defined and being set to 0.0 in labels with no predicted samples. Use `zero_division` parameter to control this behavior.\n",
            "  _warn_prf(average, modifier, f\"{metric.capitalize()} is\", len(result))\n",
            "/usr/local/lib/python3.10/dist-packages/sklearn/metrics/_classification.py:1531: UndefinedMetricWarning: Precision is ill-defined and being set to 0.0 in labels with no predicted samples. Use `zero_division` parameter to control this behavior.\n",
            "  _warn_prf(average, modifier, f\"{metric.capitalize()} is\", len(result))\n",
            "/usr/local/lib/python3.10/dist-packages/sklearn/metrics/_classification.py:1531: UndefinedMetricWarning: Precision is ill-defined and being set to 0.0 in labels with no predicted samples. Use `zero_division` parameter to control this behavior.\n",
            "  _warn_prf(average, modifier, f\"{metric.capitalize()} is\", len(result))\n"
          ]
        },
        {
          "output_type": "stream",
          "name": "stdout",
          "text": [
            "Accuracy: 0.26\n",
            "Confusion Matrix:\n",
            "[[28 11  0  0  8]\n",
            " [37  8  2  0 10]\n",
            " [ 4  0  0  0  0]\n",
            " [ 3  1  0  0  0]\n",
            " [35 16  0  0  8]]\n",
            "Classification Report:\n",
            "                  precision    recall  f1-score   support\n",
            "\n",
            "             Aha       0.26      0.60      0.36        47\n",
            "Doing Other Task       0.22      0.14      0.17        57\n",
            "         Impasse       0.00      0.00      0.00         4\n",
            "   Re-evaluation       0.00      0.00      0.00         4\n",
            "         Walking       0.31      0.14      0.19        59\n",
            "\n",
            "        accuracy                           0.26       171\n",
            "       macro avg       0.16      0.17      0.14       171\n",
            "    weighted avg       0.25      0.26      0.22       171\n",
            "\n"
          ]
        },
        {
          "output_type": "display_data",
          "data": {
            "text/plain": [
              "<Figure size 800x600 with 2 Axes>"
            ],
            "image/png": "[encoded data removed]"
          },
          "metadata": {}
        }
      ]
    },
    {
      "cell_type": "code",
      "source": [
        "import numpy as np\n",
        "import tensorflow as tf\n",
        "from sklearn.model_selection import train_test_split\n",
        "from sklearn.metrics import classification_report, confusion_matrix, accuracy_score\n",
        "from sklearn.preprocessing import LabelEncoder\n",
        "from tensorflow.keras.utils import to_categorical\n",
        "import matplotlib.pyplot as plt\n",
        "import seaborn as sns\n",
        "\n",
        "# Assuming combined_features shape: (853, 112)\n",
        "# Using loaded_labels as your labels\n",
        "labels = loaded_labels  # Ensure this variable holds your label data\n",
        "\n",
        "# Verify unique labels\n",
        "print(\"Unique labels:\", np.unique(labels))\n",
        "\n",
        "# Encode the labels\n",
        "label_encoder = LabelEncoder()\n",
        "y_encoded = label_encoder.fit_transform(labels)  # Convert labels to integers\n",
        "print(\"Encoded labels:\", y_encoded)\n",
        "\n",
        "# Check number of classes\n",
        "num_classes = len(np.unique(y_encoded))\n",
        "print(\"Number of classes:\", num_classes)\n",
        "\n",
        "# One-hot encode the labels\n",
        "y_categorical = to_categorical(y_encoded, num_classes=num_classes)  # Specify num_classes\n",
        "\n",
        "# Reshape combined features for CNN\n",
        "combined_features_reshaped = combined_time_features.reshape(-1, 64, 1, 1)\n",
        "\n",
        "# Ensure the data types are correct\n",
        "combined_features_reshaped = combined_features_reshaped.astype(np.float32)\n",
        "y_categorical = y_categorical.astype(np.float32)\n",
        "\n",
        "# Split the data into training and testing sets (80% train, 20% test)\n",
        "X_train, X_test, y_train, y_test = train_test_split(combined_features_reshaped, y_categorical, test_size=0.2, random_state=42)\n",
        "\n",
        "# Define the CNN model\n",
        "model = tf.keras.Sequential([\n",
        "    tf.keras.layers.Input(shape=(64, 1, 1)),  # Input layer\n",
        "    tf.keras.layers.Conv2D(32, (3, 1), activation='relu'),\n",
        "    tf.keras.layers.MaxPooling2D(pool_size=(2, 1)),\n",
        "    tf.keras.layers.Conv2D(64, (3, 1), activation='relu'),\n",
        "    tf.keras.layers.MaxPooling2D(pool_size=(2, 1)),\n",
        "    tf.keras.layers.Flatten(),\n",
        "    tf.keras.layers.Dense(128, activation='relu'),\n",
        "    tf.keras.layers.Dense(num_classes, activation='softmax')  # Use num_classes here\n",
        "])\n",
        "\n",
        "# Compile the model\n",
        "model.compile(optimizer='adam', loss='categorical_crossentropy', metrics=['accuracy'])\n",
        "\n",
        "# Train the model\n",
        "model.fit(X_train, y_train, epochs=100, batch_size=32, validation_split=0.2)\n",
        "\n",
        "# Make predictions on the test set\n",
        "y_pred_prob = model.predict(X_test)\n",
        "y_pred = np.argmax(y_pred_prob, axis=1)  # Get the index of the class with the highest probability\n",
        "\n",
        "# Convert predictions back to original labels\n",
        "y_pred_labels = label_encoder.inverse_transform(y_pred)\n",
        "\n",
        "# Evaluate the model\n",
        "conf_matrix = confusion_matrix(np.argmax(y_test, axis=1), y_pred)  # Use the one-hot encoded true labels\n",
        "print(conf_matrix)\n",
        "print(classification_report(np.argmax(y_test, axis=1), y_pred, target_names=label_encoder.classes_))\n",
        "\n",
        "# Calculate accuracy\n",
        "accuracy = accuracy_score(np.argmax(y_test, axis=1), y_pred)\n",
        "print(f'Accuracy: {accuracy:.2f}')\n",
        "\n",
        "# Plot the confusion matrix\n",
        "plt.figure(figsize=(10, 7))\n",
        "sns.heatmap(conf_matrix, annot=True, fmt='d', cmap='Blues', xticklabels=label_encoder.classes_, yticklabels=label_encoder.classes_)\n",
        "plt.ylabel('Actual')\n",
        "plt.xlabel('Predicted')\n",
        "plt.title('Confusion Matrix')\n",
        "plt.show()"
      ],
      "metadata": {
        "colab": {
          "base_uri": "https://localhost:8080/",
          "height": 1000
        },
        "id": "4ENR1qy3Ava_",
        "outputId": "7bfcf367-253b-4d02-d13c-77890e35a9f0"
      },
      "execution_count": null,
      "outputs": [
        {
          "output_type": "stream",
          "name": "stdout",
          "text": [
            "Unique labels: ['Aha' 'Doing Other Task' 'Impasse' 'Re-evaluation' 'Walking']\n",
            "Encoded labels: [4 0 1 2 3 2 2 4 0 1 4 0 1 4 0 1 2 4 0 1 4 0 1 4 0 1 0 1 4 0 1 4 0 1 4 0 1\n",
            " 4 0 1 4 0 1 4 0 1 4 0 1 4 0 1 4 0 1 4 0 1 4 0 1 4 0 1 4 0 1 4 0 1 4 0 1 4\n",
            " 0 1 4 0 1 4 0 1 4 0 1 4 0 1 4 0 1 4 0 1 4 0 1 4 0 1 4 0 1 0 1 4 0 1 3 4 0\n",
            " 1 4 0 1 4 0 1 4 0 1 4 0 1 4 0 1 4 0 1 4 0 1 4 0 1 3 4 0 1 4 0 1 4 0 1 4 0\n",
            " 1 4 0 1 4 0 1 4 0 1 4 0 1 4 0 1 4 0 1 2 3 4 0 4 0 1 4 0 1 4 0 1 4 0 1 4 0\n",
            " 1 4 0 1 4 0 1 4 0 1 4 0 1 4 0 1 3 4 0 1 4 0 1 4 0 1 4 0 1 4 0 1 4 0 1 4 0\n",
            " 1 4 0 1 4 0 1 4 0 1 4 0 1 3 4 0 1 4 0 1 4 0 1 4 0 1 4 0 1 4 0 1 4 0 1 4 0\n",
            " 1 4 0 1 4 0 1 0 1 4 0 1 4 0 1 4 0 1 4 0 1 4 0 4 0 1 4 0 1 4 0 1 4 0 1 4 0\n",
            " 1 4 0 1 4 0 1 3 4 0 1 4 0 1 4 0 1 4 0 1 4 0 1 4 0 1 4 0 1 4 0 1 4 0 1 4 0\n",
            " 1 3 0 1 3 0 1 4 0 1 4 0 1 4 0 1 4 0 1 4 0 1 0 1 3 4 0 1 4 0 1 4 0 1 4 0 1\n",
            " 3 0 1 4 0 4 0 1 4 0 1 4 0 1 2 3 0 1 4 0 1 4 0 1 4 0 1 4 0 1 4 0 1 4 0 1 3\n",
            " 4 0 1 4 0 1 4 0 1 4 0 1 4 0 1 4 0 1 4 0 1 4 0 1 4 0 1 4 0 1 4 0 1 4 0 1 4\n",
            " 0 1 0 1 4 0 1 4 0 1 4 0 1 4 0 1 4 0 1 4 0 1 3 4 0 1 4 0 1 4 0 1 4 0 1 4 0\n",
            " 1 4 0 1 4 0 1 4 0 1 3 4 0 1 4 0 1 4 0 1 4 0 1 0 1 3 4 0 1 4 0 1 4 0 1 4 0\n",
            " 1 4 0 1 4 0 1 4 0 1 4 0 1 3 4 0 1 3 4 0 1 4 0 1 4 0 1 4 0 1 4 0 1 4 0 1 4\n",
            " 0 1 4 0 1 4 0 1 2 4 0 1 4 0 1 4 0 1 4 0 1 4 0 1 2 4 0 1 4 0 1 4 0 1 4 0 1\n",
            " 4 0 1 4 0 1 3 4 0 1 4 0 1 4 0 1 4 0 1 4 0 1 4 0 1 4 0 1 4 0 1 4 0 1 4 0 1\n",
            " 4 0 1 4 0 1 4 0 1 4 0 1 4 0 1 4 0 1 3 3 4 0 1 4 0 1 0 1 3 4 0 1 4 0 1 4 0\n",
            " 1 4 0 1 4 0 1 4 0 1 4 0 1 4 0 1 0 1 4 0 1 4 0 1 4 0 1 4 0 1 0 1 4 0 1 4 0\n",
            " 1 4 0 1 4 0 1 4 0 1 4 0 1 4 0 1 4 0 1 4 0 1 4 0 1 4 0 1 0 1 4 0 1 4 0 1 4\n",
            " 0 1 4 0 1 4 0 1 4 0 1 2 4 0 1 4 0 1 4 0 1 1 4 0 1 4 0 1 4 0 1 4 0 1 0 1 4\n",
            " 0 4 0 1 4 0 1 4 0 1 4 0 1 4 0 1 4 0 1 4 0 1 4 0 1 0 1 4 0 1 4 0 1 4 0 1 3\n",
            " 0 1 4 0 1 4 0 1 4 0 1 4 0 1 4 0 1 4 0 1 4 0 1 4 0 1 2 4 0 1 4 0 1 0 1 2 2\n",
            " 2 2]\n",
            "Number of classes: 5\n",
            "Epoch 1/100\n",
            "\u001b[1m18/18\u001b[0m \u001b[32m━━━━━━━━━━━━━━━━━━━━\u001b[0m\u001b[37m\u001b[0m \u001b[1m7s\u001b[0m 59ms/step - accuracy: 0.3306 - loss: 37221340.0000 - val_accuracy: 0.2920 - val_loss: 20229414.0000\n",
            "Epoch 2/100\n",
            "\u001b[1m18/18\u001b[0m \u001b[32m━━━━━━━━━━━━━━━━━━━━\u001b[0m\u001b[37m\u001b[0m \u001b[1m1s\u001b[0m 24ms/step - accuracy: 0.3330 - loss: 16907688.0000 - val_accuracy: 0.2993 - val_loss: 29434658.0000\n",
            "Epoch 3/100\n",
            "\u001b[1m18/18\u001b[0m \u001b[32m━━━━━━━━━━━━━━━━━━━━\u001b[0m\u001b[37m\u001b[0m \u001b[1m1s\u001b[0m 23ms/step - accuracy: 0.3478 - loss: 13471570.0000 - val_accuracy: 0.3066 - val_loss: 29461608.0000\n",
            "Epoch 4/100\n",
            "\u001b[1m18/18\u001b[0m \u001b[32m━━━━━━━━━━━━━━━━━━━━\u001b[0m\u001b[37m\u001b[0m \u001b[1m1s\u001b[0m 21ms/step - accuracy: 0.3313 - loss: 11324283.0000 - val_accuracy: 0.3139 - val_loss: 9648109.0000\n",
            "Epoch 5/100\n",
            "\u001b[1m18/18\u001b[0m \u001b[32m━━━━━━━━━━━━━━━━━━━━\u001b[0m\u001b[37m\u001b[0m \u001b[1m1s\u001b[0m 25ms/step - accuracy: 0.2822 - loss: 13739747.0000 - val_accuracy: 0.2993 - val_loss: 9871573.0000\n",
            "Epoch 6/100\n",
            "\u001b[1m18/18\u001b[0m \u001b[32m━━━━━━━━━━━━━━━━━━━━\u001b[0m\u001b[37m\u001b[0m \u001b[1m1s\u001b[0m 22ms/step - accuracy: 0.3088 - loss: 8561583.0000 - val_accuracy: 0.3431 - val_loss: 19911068.0000\n",
            "Epoch 7/100\n",
            "\u001b[1m18/18\u001b[0m \u001b[32m━━━━━━━━━━━━━━━━━━━━\u001b[0m\u001b[37m\u001b[0m \u001b[1m1s\u001b[0m 19ms/step - accuracy: 0.3444 - loss: 4204202.5000 - val_accuracy: 0.3431 - val_loss: 12390592.0000\n",
            "Epoch 8/100\n",
            "\u001b[1m18/18\u001b[0m \u001b[32m━━━━━━━━━━━━━━━━━━━━\u001b[0m\u001b[37m\u001b[0m \u001b[1m0s\u001b[0m 20ms/step - accuracy: 0.3053 - loss: 15011195.0000 - val_accuracy: 0.3139 - val_loss: 8163337.5000\n",
            "Epoch 9/100\n",
            "\u001b[1m18/18\u001b[0m \u001b[32m━━━━━━━━━━━━━━━━━━━━\u001b[0m\u001b[37m\u001b[0m \u001b[1m1s\u001b[0m 23ms/step - accuracy: 0.3262 - loss: 4997097.5000 - val_accuracy: 0.3577 - val_loss: 9004493.0000\n",
            "Epoch 10/100\n",
            "\u001b[1m18/18\u001b[0m \u001b[32m━━━━━━━━━━━━━━━━━━━━\u001b[0m\u001b[37m\u001b[0m \u001b[1m0s\u001b[0m 15ms/step - accuracy: 0.3378 - loss: 2887065.0000 - val_accuracy: 0.2701 - val_loss: 9145410.0000\n",
            "Epoch 11/100\n",
            "\u001b[1m18/18\u001b[0m \u001b[32m━━━━━━━━━━━━━━━━━━━━\u001b[0m\u001b[37m\u001b[0m \u001b[1m1s\u001b[0m 30ms/step - accuracy: 0.2828 - loss: 6317421.0000 - val_accuracy: 0.2701 - val_loss: 8081232.5000\n",
            "Epoch 12/100\n",
            "\u001b[1m18/18\u001b[0m \u001b[32m━━━━━━━━━━━━━━━━━━━━\u001b[0m\u001b[37m\u001b[0m \u001b[1m1s\u001b[0m 21ms/step - accuracy: 0.2885 - loss: 7247050.5000 - val_accuracy: 0.3431 - val_loss: 8941587.0000\n",
            "Epoch 13/100\n",
            "\u001b[1m18/18\u001b[0m \u001b[32m━━━━━━━━━━━━━━━━━━━━\u001b[0m\u001b[37m\u001b[0m \u001b[1m0s\u001b[0m 17ms/step - accuracy: 0.3046 - loss: 5757991.5000 - val_accuracy: 0.3285 - val_loss: 11741727.0000\n",
            "Epoch 14/100\n",
            "\u001b[1m18/18\u001b[0m \u001b[32m━━━━━━━━━━━━━━━━━━━━\u001b[0m\u001b[37m\u001b[0m \u001b[1m0s\u001b[0m 16ms/step - accuracy: 0.3121 - loss: 5010976.5000 - val_accuracy: 0.3212 - val_loss: 8785519.0000\n",
            "Epoch 15/100\n",
            "\u001b[1m18/18\u001b[0m \u001b[32m━━━━━━━━━━━━━━━━━━━━\u001b[0m\u001b[37m\u001b[0m \u001b[1m0s\u001b[0m 13ms/step - accuracy: 0.3277 - loss: 2623489.5000 - val_accuracy: 0.3723 - val_loss: 9453315.0000\n",
            "Epoch 16/100\n",
            "\u001b[1m18/18\u001b[0m \u001b[32m━━━━━━━━━━━━━━━━━━━━\u001b[0m\u001b[37m\u001b[0m \u001b[1m0s\u001b[0m 17ms/step - accuracy: 0.3262 - loss: 3942325.7500 - val_accuracy: 0.3650 - val_loss: 8656653.0000\n",
            "Epoch 17/100\n",
            "\u001b[1m18/18\u001b[0m \u001b[32m━━━━━━━━━━━━━━━━━━━━\u001b[0m\u001b[37m\u001b[0m \u001b[1m1s\u001b[0m 15ms/step - accuracy: 0.3127 - loss: 2688560.0000 - val_accuracy: 0.3358 - val_loss: 6523358.0000\n",
            "Epoch 18/100\n",
            "\u001b[1m18/18\u001b[0m \u001b[32m━━━━━━━━━━━━━━━━━━━━\u001b[0m\u001b[37m\u001b[0m \u001b[1m0s\u001b[0m 17ms/step - accuracy: 0.3575 - loss: 1471609.6250 - val_accuracy: 0.3504 - val_loss: 6039187.0000\n",
            "Epoch 19/100\n",
            "\u001b[1m18/18\u001b[0m \u001b[32m━━━━━━━━━━━━━━━━━━━━\u001b[0m\u001b[37m\u001b[0m \u001b[1m0s\u001b[0m 16ms/step - accuracy: 0.3640 - loss: 2329373.0000 - val_accuracy: 0.3212 - val_loss: 6763071.0000\n",
            "Epoch 20/100\n",
            "\u001b[1m18/18\u001b[0m \u001b[32m━━━━━━━━━━━━━━━━━━━━\u001b[0m\u001b[37m\u001b[0m \u001b[1m0s\u001b[0m 20ms/step - accuracy: 0.3469 - loss: 1941505.7500 - val_accuracy: 0.3139 - val_loss: 6519289.5000\n",
            "Epoch 21/100\n",
            "\u001b[1m18/18\u001b[0m \u001b[32m━━━━━━━━━━━━━━━━━━━━\u001b[0m\u001b[37m\u001b[0m \u001b[1m1s\u001b[0m 16ms/step - accuracy: 0.3319 - loss: 2397106.7500 - val_accuracy: 0.3577 - val_loss: 5481295.0000\n",
            "Epoch 22/100\n",
            "\u001b[1m18/18\u001b[0m \u001b[32m━━━━━━━━━━━━━━━━━━━━\u001b[0m\u001b[37m\u001b[0m \u001b[1m1s\u001b[0m 15ms/step - accuracy: 0.3234 - loss: 3999961.5000 - val_accuracy: 0.3504 - val_loss: 5449593.5000\n",
            "Epoch 23/100\n",
            "\u001b[1m18/18\u001b[0m \u001b[32m━━━━━━━━━━━━━━━━━━━━\u001b[0m\u001b[37m\u001b[0m \u001b[1m0s\u001b[0m 9ms/step - accuracy: 0.3085 - loss: 2178914.2500 - val_accuracy: 0.3723 - val_loss: 6020617.5000\n",
            "Epoch 24/100\n",
            "\u001b[1m18/18\u001b[0m \u001b[32m━━━━━━━━━━━━━━━━━━━━\u001b[0m\u001b[37m\u001b[0m \u001b[1m0s\u001b[0m 8ms/step - accuracy: 0.3166 - loss: 1692304.2500 - val_accuracy: 0.3650 - val_loss: 6802765.5000\n",
            "Epoch 25/100\n",
            "\u001b[1m18/18\u001b[0m \u001b[32m━━━━━━━━━━━━━━━━━━━━\u001b[0m\u001b[37m\u001b[0m \u001b[1m0s\u001b[0m 10ms/step - accuracy: 0.2908 - loss: 3898835.7500 - val_accuracy: 0.3139 - val_loss: 5616005.5000\n",
            "Epoch 26/100\n",
            "\u001b[1m18/18\u001b[0m \u001b[32m━━━━━━━━━━━━━━━━━━━━\u001b[0m\u001b[37m\u001b[0m \u001b[1m0s\u001b[0m 9ms/step - accuracy: 0.3335 - loss: 1052916.2500 - val_accuracy: 0.3431 - val_loss: 5316181.5000\n",
            "Epoch 27/100\n",
            "\u001b[1m18/18\u001b[0m \u001b[32m━━━━━━━━━━━━━━━━━━━━\u001b[0m\u001b[37m\u001b[0m \u001b[1m0s\u001b[0m 9ms/step - accuracy: 0.3389 - loss: 1372531.1250 - val_accuracy: 0.3285 - val_loss: 4523413.0000\n",
            "Epoch 28/100\n",
            "\u001b[1m18/18\u001b[0m \u001b[32m━━━━━━━━━━━━━━━━━━━━\u001b[0m\u001b[37m\u001b[0m \u001b[1m0s\u001b[0m 10ms/step - accuracy: 0.3254 - loss: 2501825.7500 - val_accuracy: 0.3139 - val_loss: 3919921.5000\n",
            "Epoch 29/100\n",
            "\u001b[1m18/18\u001b[0m \u001b[32m━━━━━━━━━━━━━━━━━━━━\u001b[0m\u001b[37m\u001b[0m \u001b[1m0s\u001b[0m 10ms/step - accuracy: 0.3429 - loss: 1778786.7500 - val_accuracy: 0.3358 - val_loss: 3418131.5000\n",
            "Epoch 30/100\n",
            "\u001b[1m18/18\u001b[0m \u001b[32m━━━━━━━━━━━━━━━━━━━━\u001b[0m\u001b[37m\u001b[0m \u001b[1m0s\u001b[0m 9ms/step - accuracy: 0.3473 - loss: 920086.8750 - val_accuracy: 0.3066 - val_loss: 2798512.5000\n",
            "Epoch 31/100\n",
            "\u001b[1m18/18\u001b[0m \u001b[32m━━━━━━━━━━━━━━━━━━━━\u001b[0m\u001b[37m\u001b[0m \u001b[1m0s\u001b[0m 9ms/step - accuracy: 0.3079 - loss: 6126122.0000 - val_accuracy: 0.3139 - val_loss: 5291099.0000\n",
            "Epoch 32/100\n",
            "\u001b[1m18/18\u001b[0m \u001b[32m━━━━━━━━━━━━━━━━━━━━\u001b[0m\u001b[37m\u001b[0m \u001b[1m0s\u001b[0m 9ms/step - accuracy: 0.3104 - loss: 12897484.0000 - val_accuracy: 0.2774 - val_loss: 4892341.5000\n",
            "Epoch 33/100\n",
            "\u001b[1m18/18\u001b[0m \u001b[32m━━━━━━━━━━━━━━━━━━━━\u001b[0m\u001b[37m\u001b[0m \u001b[1m0s\u001b[0m 9ms/step - accuracy: 0.3217 - loss: 1272985.3750 - val_accuracy: 0.2847 - val_loss: 3092572.7500\n",
            "Epoch 34/100\n",
            "\u001b[1m18/18\u001b[0m \u001b[32m━━━━━━━━━━━━━━━━━━━━\u001b[0m\u001b[37m\u001b[0m \u001b[1m0s\u001b[0m 8ms/step - accuracy: 0.3436 - loss: 1110984.2500 - val_accuracy: 0.3066 - val_loss: 1926530.5000\n",
            "Epoch 35/100\n",
            "\u001b[1m18/18\u001b[0m \u001b[32m━━━━━━━━━━━━━━━━━━━━\u001b[0m\u001b[37m\u001b[0m \u001b[1m0s\u001b[0m 9ms/step - accuracy: 0.3414 - loss: 1990052.0000 - val_accuracy: 0.3066 - val_loss: 2921180.5000\n",
            "Epoch 36/100\n",
            "\u001b[1m18/18\u001b[0m \u001b[32m━━━━━━━━━━━━━━━━━━━━\u001b[0m\u001b[37m\u001b[0m \u001b[1m0s\u001b[0m 9ms/step - accuracy: 0.3051 - loss: 590191.5625 - val_accuracy: 0.3285 - val_loss: 2251912.7500\n",
            "Epoch 37/100\n",
            "\u001b[1m18/18\u001b[0m \u001b[32m━━━━━━━━━━━━━━━━━━━━\u001b[0m\u001b[37m\u001b[0m \u001b[1m0s\u001b[0m 9ms/step - accuracy: 0.3321 - loss: 588232.5625 - val_accuracy: 0.2701 - val_loss: 1651127.2500\n",
            "Epoch 38/100\n",
            "\u001b[1m18/18\u001b[0m \u001b[32m━━━━━━━━━━━━━━━━━━━━\u001b[0m\u001b[37m\u001b[0m \u001b[1m0s\u001b[0m 9ms/step - accuracy: 0.3144 - loss: 882259.7500 - val_accuracy: 0.2847 - val_loss: 1585800.6250\n",
            "Epoch 39/100\n",
            "\u001b[1m18/18\u001b[0m \u001b[32m━━━━━━━━━━━━━━━━━━━━\u001b[0m\u001b[37m\u001b[0m \u001b[1m0s\u001b[0m 9ms/step - accuracy: 0.2886 - loss: 553181.1250 - val_accuracy: 0.3212 - val_loss: 1056171.5000\n",
            "Epoch 40/100\n",
            "\u001b[1m18/18\u001b[0m \u001b[32m━━━━━━━━━━━━━━━━━━━━\u001b[0m\u001b[37m\u001b[0m \u001b[1m0s\u001b[0m 9ms/step - accuracy: 0.3198 - loss: 351177.2500 - val_accuracy: 0.2920 - val_loss: 1315129.5000\n",
            "Epoch 41/100\n",
            "\u001b[1m18/18\u001b[0m \u001b[32m━━━━━━━━━━━━━━━━━━━━\u001b[0m\u001b[37m\u001b[0m \u001b[1m0s\u001b[0m 11ms/step - accuracy: 0.3519 - loss: 564603.7500 - val_accuracy: 0.3285 - val_loss: 1170185.1250\n",
            "Epoch 42/100\n",
            "\u001b[1m18/18\u001b[0m \u001b[32m━━━━━━━━━━━━━━━━━━━━\u001b[0m\u001b[37m\u001b[0m \u001b[1m0s\u001b[0m 9ms/step - accuracy: 0.3440 - loss: 756602.2500 - val_accuracy: 0.2847 - val_loss: 1238530.3750\n",
            "Epoch 43/100\n",
            "\u001b[1m18/18\u001b[0m \u001b[32m━━━━━━━━━━━━━━━━━━━━\u001b[0m\u001b[37m\u001b[0m \u001b[1m0s\u001b[0m 9ms/step - accuracy: 0.3377 - loss: 209841.8906 - val_accuracy: 0.3358 - val_loss: 1097307.7500\n",
            "Epoch 44/100\n",
            "\u001b[1m18/18\u001b[0m \u001b[32m━━━━━━━━━━━━━━━━━━━━\u001b[0m\u001b[37m\u001b[0m \u001b[1m0s\u001b[0m 9ms/step - accuracy: 0.3517 - loss: 252367.8594 - val_accuracy: 0.2628 - val_loss: 787396.0625\n",
            "Epoch 45/100\n",
            "\u001b[1m18/18\u001b[0m \u001b[32m━━━━━━━━━━━━━━━━━━━━\u001b[0m\u001b[37m\u001b[0m \u001b[1m0s\u001b[0m 9ms/step - accuracy: 0.3467 - loss: 540655.3750 - val_accuracy: 0.2847 - val_loss: 820091.6875\n",
            "Epoch 46/100\n",
            "\u001b[1m18/18\u001b[0m \u001b[32m━━━━━━━━━━━━━━━━━━━━\u001b[0m\u001b[37m\u001b[0m \u001b[1m0s\u001b[0m 10ms/step - accuracy: 0.3577 - loss: 142956.5312 - val_accuracy: 0.2847 - val_loss: 747838.1875\n",
            "Epoch 47/100\n",
            "\u001b[1m18/18\u001b[0m \u001b[32m━━━━━━━━━━━━━━━━━━━━\u001b[0m\u001b[37m\u001b[0m \u001b[1m0s\u001b[0m 9ms/step - accuracy: 0.3530 - loss: 361456.6875 - val_accuracy: 0.2701 - val_loss: 739030.4375\n",
            "Epoch 48/100\n",
            "\u001b[1m18/18\u001b[0m \u001b[32m━━━━━━━━━━━━━━━━━━━━\u001b[0m\u001b[37m\u001b[0m \u001b[1m0s\u001b[0m 9ms/step - accuracy: 0.3434 - loss: 776817.0000 - val_accuracy: 0.2482 - val_loss: 686118.5625\n",
            "Epoch 49/100\n",
            "\u001b[1m18/18\u001b[0m \u001b[32m━━━━━━━━━━━━━━━━━━━━\u001b[0m\u001b[37m\u001b[0m \u001b[1m0s\u001b[0m 9ms/step - accuracy: 0.3924 - loss: 212857.8438 - val_accuracy: 0.3212 - val_loss: 926748.0000\n",
            "Epoch 50/100\n",
            "\u001b[1m18/18\u001b[0m \u001b[32m━━━━━━━━━━━━━━━━━━━━\u001b[0m\u001b[37m\u001b[0m \u001b[1m0s\u001b[0m 10ms/step - accuracy: 0.3603 - loss: 262654.8125 - val_accuracy: 0.2847 - val_loss: 921685.7500\n",
            "Epoch 51/100\n",
            "\u001b[1m18/18\u001b[0m \u001b[32m━━━━━━━━━━━━━━━━━━━━\u001b[0m\u001b[37m\u001b[0m \u001b[1m0s\u001b[0m 9ms/step - accuracy: 0.3510 - loss: 606321.6250 - val_accuracy: 0.2701 - val_loss: 934228.8125\n",
            "Epoch 52/100\n",
            "\u001b[1m18/18\u001b[0m \u001b[32m━━━━━━━━━━━━━━━━━━━━\u001b[0m\u001b[37m\u001b[0m \u001b[1m0s\u001b[0m 9ms/step - accuracy: 0.3309 - loss: 369529.0625 - val_accuracy: 0.2409 - val_loss: 958233.8750\n",
            "Epoch 53/100\n",
            "\u001b[1m18/18\u001b[0m \u001b[32m━━━━━━━━━━━━━━━━━━━━\u001b[0m\u001b[37m\u001b[0m \u001b[1m0s\u001b[0m 9ms/step - accuracy: 0.3226 - loss: 670958.8750 - val_accuracy: 0.2555 - val_loss: 1241771.1250\n",
            "Epoch 54/100\n",
            "\u001b[1m18/18\u001b[0m \u001b[32m━━━━━━━━━━━━━━━━━━━━\u001b[0m\u001b[37m\u001b[0m \u001b[1m0s\u001b[0m 11ms/step - accuracy: 0.3243 - loss: 480314.7188 - val_accuracy: 0.2628 - val_loss: 862163.1250\n",
            "Epoch 55/100\n",
            "\u001b[1m18/18\u001b[0m \u001b[32m━━━━━━━━━━━━━━━━━━━━\u001b[0m\u001b[37m\u001b[0m \u001b[1m0s\u001b[0m 9ms/step - accuracy: 0.3423 - loss: 158620.6562 - val_accuracy: 0.2701 - val_loss: 726572.3750\n",
            "Epoch 56/100\n",
            "\u001b[1m18/18\u001b[0m \u001b[32m━━━━━━━━━━━━━━━━━━━━\u001b[0m\u001b[37m\u001b[0m \u001b[1m0s\u001b[0m 10ms/step - accuracy: 0.3652 - loss: 261975.4375 - val_accuracy: 0.2409 - val_loss: 592805.1250\n",
            "Epoch 57/100\n",
            "\u001b[1m18/18\u001b[0m \u001b[32m━━━━━━━━━━━━━━━━━━━━\u001b[0m\u001b[37m\u001b[0m \u001b[1m0s\u001b[0m 10ms/step - accuracy: 0.3610 - loss: 175959.7500 - val_accuracy: 0.2701 - val_loss: 595027.7500\n",
            "Epoch 58/100\n",
            "\u001b[1m18/18\u001b[0m \u001b[32m━━━━━━━━━━━━━━━━━━━━\u001b[0m\u001b[37m\u001b[0m \u001b[1m0s\u001b[0m 9ms/step - accuracy: 0.3775 - loss: 176573.8594 - val_accuracy: 0.2555 - val_loss: 766902.6250\n",
            "Epoch 59/100\n",
            "\u001b[1m18/18\u001b[0m \u001b[32m━━━━━━━━━━━━━━━━━━━━\u001b[0m\u001b[37m\u001b[0m \u001b[1m0s\u001b[0m 9ms/step - accuracy: 0.3345 - loss: 182622.5781 - val_accuracy: 0.2774 - val_loss: 565875.3750\n",
            "Epoch 60/100\n",
            "\u001b[1m18/18\u001b[0m \u001b[32m━━━━━━━━━━━━━━━━━━━━\u001b[0m\u001b[37m\u001b[0m \u001b[1m0s\u001b[0m 9ms/step - accuracy: 0.3994 - loss: 82095.8359 - val_accuracy: 0.2774 - val_loss: 549533.7500\n",
            "Epoch 61/100\n",
            "\u001b[1m18/18\u001b[0m \u001b[32m━━━━━━━━━━━━━━━━━━━━\u001b[0m\u001b[37m\u001b[0m \u001b[1m0s\u001b[0m 9ms/step - accuracy: 0.3733 - loss: 135187.2969 - val_accuracy: 0.2920 - val_loss: 504768.4688\n",
            "Epoch 62/100\n",
            "\u001b[1m18/18\u001b[0m \u001b[32m━━━━━━━━━━━━━━━━━━━━\u001b[0m\u001b[37m\u001b[0m \u001b[1m0s\u001b[0m 9ms/step - accuracy: 0.3697 - loss: 134285.2500 - val_accuracy: 0.2482 - val_loss: 624104.7500\n",
            "Epoch 63/100\n",
            "\u001b[1m18/18\u001b[0m \u001b[32m━━━━━━━━━━━━━━━━━━━━\u001b[0m\u001b[37m\u001b[0m \u001b[1m0s\u001b[0m 10ms/step - accuracy: 0.3409 - loss: 197146.4688 - val_accuracy: 0.2555 - val_loss: 482836.3125\n",
            "Epoch 64/100\n",
            "\u001b[1m18/18\u001b[0m \u001b[32m━━━━━━━━━━━━━━━━━━━━\u001b[0m\u001b[37m\u001b[0m \u001b[1m0s\u001b[0m 10ms/step - accuracy: 0.3478 - loss: 97048.3047 - val_accuracy: 0.3066 - val_loss: 2356130.0000\n",
            "Epoch 65/100\n",
            "\u001b[1m18/18\u001b[0m \u001b[32m━━━━━━━━━━━━━━━━━━━━\u001b[0m\u001b[37m\u001b[0m \u001b[1m0s\u001b[0m 17ms/step - accuracy: 0.3638 - loss: 86140.6250 - val_accuracy: 0.2993 - val_loss: 2003862.3750\n",
            "Epoch 66/100\n",
            "\u001b[1m18/18\u001b[0m \u001b[32m━━━━━━━━━━━━━━━━━━━━\u001b[0m\u001b[37m\u001b[0m \u001b[1m0s\u001b[0m 15ms/step - accuracy: 0.3414 - loss: 189475.6250 - val_accuracy: 0.2993 - val_loss: 1645660.7500\n",
            "Epoch 67/100\n",
            "\u001b[1m18/18\u001b[0m \u001b[32m━━━━━━━━━━━━━━━━━━━━\u001b[0m\u001b[37m\u001b[0m \u001b[1m1s\u001b[0m 15ms/step - accuracy: 0.3341 - loss: 124042.0625 - val_accuracy: 0.3431 - val_loss: 1629904.8750\n",
            "Epoch 68/100\n",
            "\u001b[1m18/18\u001b[0m \u001b[32m━━━━━━━━━━━━━━━━━━━━\u001b[0m\u001b[37m\u001b[0m \u001b[1m1s\u001b[0m 19ms/step - accuracy: 0.3573 - loss: 197693.3750 - val_accuracy: 0.2920 - val_loss: 1727476.1250\n",
            "Epoch 69/100\n",
            "\u001b[1m18/18\u001b[0m \u001b[32m━━━━━━━━━━━━━━━━━━━━\u001b[0m\u001b[37m\u001b[0m \u001b[1m1s\u001b[0m 14ms/step - accuracy: 0.4012 - loss: 239950.2656 - val_accuracy: 0.2847 - val_loss: 1638969.8750\n",
            "Epoch 70/100\n",
            "\u001b[1m18/18\u001b[0m \u001b[32m━━━━━━━━━━━━━━━━━━━━\u001b[0m\u001b[37m\u001b[0m \u001b[1m0s\u001b[0m 15ms/step - accuracy: 0.3889 - loss: 89104.2266 - val_accuracy: 0.2847 - val_loss: 1637556.8750\n",
            "Epoch 71/100\n",
            "\u001b[1m18/18\u001b[0m \u001b[32m━━━━━━━━━━━━━━━━━━━━\u001b[0m\u001b[37m\u001b[0m \u001b[1m0s\u001b[0m 20ms/step - accuracy: 0.3928 - loss: 104657.7891 - val_accuracy: 0.2555 - val_loss: 1466509.2500\n",
            "Epoch 72/100\n",
            "\u001b[1m18/18\u001b[0m \u001b[32m━━━━━━━━━━━━━━━━━━━━\u001b[0m\u001b[37m\u001b[0m \u001b[1m1s\u001b[0m 15ms/step - accuracy: 0.3569 - loss: 191255.6250 - val_accuracy: 0.2482 - val_loss: 1390684.6250\n",
            "Epoch 73/100\n",
            "\u001b[1m18/18\u001b[0m \u001b[32m━━━━━━━━━━━━━━━━━━━━\u001b[0m\u001b[37m\u001b[0m \u001b[1m0s\u001b[0m 18ms/step - accuracy: 0.4034 - loss: 99137.0391 - val_accuracy: 0.2482 - val_loss: 1256979.1250\n",
            "Epoch 74/100\n",
            "\u001b[1m18/18\u001b[0m \u001b[32m━━━━━━━━━━━━━━━━━━━━\u001b[0m\u001b[37m\u001b[0m \u001b[1m0s\u001b[0m 9ms/step - accuracy: 0.3833 - loss: 124434.6953 - val_accuracy: 0.2993 - val_loss: 1177095.0000\n",
            "Epoch 75/100\n",
            "\u001b[1m18/18\u001b[0m \u001b[32m━━━━━━━━━━━━━━━━━━━━\u001b[0m\u001b[37m\u001b[0m \u001b[1m0s\u001b[0m 9ms/step - accuracy: 0.3968 - loss: 50727.6094 - val_accuracy: 0.2628 - val_loss: 1136094.1250\n",
            "Epoch 76/100\n",
            "\u001b[1m18/18\u001b[0m \u001b[32m━━━━━━━━━━━━━━━━━━━━\u001b[0m\u001b[37m\u001b[0m \u001b[1m0s\u001b[0m 11ms/step - accuracy: 0.3395 - loss: 97588.0625 - val_accuracy: 0.2628 - val_loss: 1205613.2500\n",
            "Epoch 77/100\n",
            "\u001b[1m18/18\u001b[0m \u001b[32m━━━━━━━━━━━━━━━━━━━━\u001b[0m\u001b[37m\u001b[0m \u001b[1m0s\u001b[0m 9ms/step - accuracy: 0.3322 - loss: 124980.4531 - val_accuracy: 0.2555 - val_loss: 1156617.8750\n",
            "Epoch 78/100\n",
            "\u001b[1m18/18\u001b[0m \u001b[32m━━━━━━━━━━━━━━━━━━━━\u001b[0m\u001b[37m\u001b[0m \u001b[1m0s\u001b[0m 9ms/step - accuracy: 0.3551 - loss: 230055.5781 - val_accuracy: 0.2482 - val_loss: 1115120.3750\n",
            "Epoch 79/100\n",
            "\u001b[1m18/18\u001b[0m \u001b[32m━━━━━━━━━━━━━━━━━━━━\u001b[0m\u001b[37m\u001b[0m \u001b[1m0s\u001b[0m 9ms/step - accuracy: 0.3566 - loss: 142964.7031 - val_accuracy: 0.2774 - val_loss: 854349.3125\n",
            "Epoch 80/100\n",
            "\u001b[1m18/18\u001b[0m \u001b[32m━━━━━━━━━━━━━━━━━━━━\u001b[0m\u001b[37m\u001b[0m \u001b[1m0s\u001b[0m 11ms/step - accuracy: 0.3977 - loss: 70780.0859 - val_accuracy: 0.3358 - val_loss: 815311.5625\n",
            "Epoch 81/100\n",
            "\u001b[1m18/18\u001b[0m \u001b[32m━━━━━━━━━━━━━━━━━━━━\u001b[0m\u001b[37m\u001b[0m \u001b[1m0s\u001b[0m 9ms/step - accuracy: 0.3686 - loss: 103016.0156 - val_accuracy: 0.3066 - val_loss: 748145.4375\n",
            "Epoch 82/100\n",
            "\u001b[1m18/18\u001b[0m \u001b[32m━━━━━━━━━━━━━━━━━━━━\u001b[0m\u001b[37m\u001b[0m \u001b[1m0s\u001b[0m 8ms/step - accuracy: 0.3508 - loss: 86832.0078 - val_accuracy: 0.2920 - val_loss: 670311.0000\n",
            "Epoch 83/100\n",
            "\u001b[1m18/18\u001b[0m \u001b[32m━━━━━━━━━━━━━━━━━━━━\u001b[0m\u001b[37m\u001b[0m \u001b[1m0s\u001b[0m 9ms/step - accuracy: 0.3444 - loss: 49517.3359 - val_accuracy: 0.2920 - val_loss: 691901.5000\n",
            "Epoch 84/100\n",
            "\u001b[1m18/18\u001b[0m \u001b[32m━━━━━━━━━━━━━━━━━━━━\u001b[0m\u001b[37m\u001b[0m \u001b[1m0s\u001b[0m 9ms/step - accuracy: 0.3863 - loss: 370421.7812 - val_accuracy: 0.2847 - val_loss: 3585998.0000\n",
            "Epoch 85/100\n",
            "\u001b[1m18/18\u001b[0m \u001b[32m━━━━━━━━━━━━━━━━━━━━\u001b[0m\u001b[37m\u001b[0m \u001b[1m0s\u001b[0m 9ms/step - accuracy: 0.3704 - loss: 500230.3438 - val_accuracy: 0.2409 - val_loss: 2628864.5000\n",
            "Epoch 86/100\n",
            "\u001b[1m18/18\u001b[0m \u001b[32m━━━━━━━━━━━━━━━━━━━━\u001b[0m\u001b[37m\u001b[0m \u001b[1m0s\u001b[0m 9ms/step - accuracy: 0.3544 - loss: 244755.1875 - val_accuracy: 0.2628 - val_loss: 1748687.1250\n",
            "Epoch 87/100\n",
            "\u001b[1m18/18\u001b[0m \u001b[32m━━━━━━━━━━━━━━━━━━━━\u001b[0m\u001b[37m\u001b[0m \u001b[1m0s\u001b[0m 8ms/step - accuracy: 0.3729 - loss: 381810.4688 - val_accuracy: 0.2701 - val_loss: 852245.1875\n",
            "Epoch 88/100\n",
            "\u001b[1m18/18\u001b[0m \u001b[32m━━━━━━━━━━━━━━━━━━━━\u001b[0m\u001b[37m\u001b[0m \u001b[1m0s\u001b[0m 9ms/step - accuracy: 0.3826 - loss: 140122.2500 - val_accuracy: 0.2774 - val_loss: 578951.3750\n",
            "Epoch 89/100\n",
            "\u001b[1m18/18\u001b[0m \u001b[32m━━━━━━━━━━━━━━━━━━━━\u001b[0m\u001b[37m\u001b[0m \u001b[1m0s\u001b[0m 11ms/step - accuracy: 0.3834 - loss: 84771.5156 - val_accuracy: 0.2993 - val_loss: 861741.0000\n",
            "Epoch 90/100\n",
            "\u001b[1m18/18\u001b[0m \u001b[32m━━━━━━━━━━━━━━━━━━━━\u001b[0m\u001b[37m\u001b[0m \u001b[1m0s\u001b[0m 9ms/step - accuracy: 0.3677 - loss: 65004.9961 - val_accuracy: 0.2993 - val_loss: 701190.1875\n",
            "Epoch 91/100\n",
            "\u001b[1m18/18\u001b[0m \u001b[32m━━━━━━━━━━━━━━━━━━━━\u001b[0m\u001b[37m\u001b[0m \u001b[1m0s\u001b[0m 9ms/step - accuracy: 0.3888 - loss: 140907.4062 - val_accuracy: 0.3358 - val_loss: 802053.9375\n",
            "Epoch 92/100\n",
            "\u001b[1m18/18\u001b[0m \u001b[32m━━━━━━━━━━━━━━━━━━━━\u001b[0m\u001b[37m\u001b[0m \u001b[1m0s\u001b[0m 10ms/step - accuracy: 0.3597 - loss: 42911.4727 - val_accuracy: 0.3504 - val_loss: 693379.8125\n",
            "Epoch 93/100\n",
            "\u001b[1m18/18\u001b[0m \u001b[32m━━━━━━━━━━━━━━━━━━━━\u001b[0m\u001b[37m\u001b[0m \u001b[1m0s\u001b[0m 9ms/step - accuracy: 0.3746 - loss: 106428.3594 - val_accuracy: 0.3212 - val_loss: 703629.6875\n",
            "Epoch 94/100\n",
            "\u001b[1m18/18\u001b[0m \u001b[32m━━━━━━━━━━━━━━━━━━━━\u001b[0m\u001b[37m\u001b[0m \u001b[1m0s\u001b[0m 9ms/step - accuracy: 0.3920 - loss: 38090.7188 - val_accuracy: 0.3212 - val_loss: 613864.6875\n",
            "Epoch 95/100\n",
            "\u001b[1m18/18\u001b[0m \u001b[32m━━━━━━━━━━━━━━━━━━━━\u001b[0m\u001b[37m\u001b[0m \u001b[1m0s\u001b[0m 9ms/step - accuracy: 0.3507 - loss: 72569.1094 - val_accuracy: 0.2701 - val_loss: 574169.1250\n",
            "Epoch 96/100\n",
            "\u001b[1m18/18\u001b[0m \u001b[32m━━━━━━━━━━━━━━━━━━━━\u001b[0m\u001b[37m\u001b[0m \u001b[1m0s\u001b[0m 10ms/step - accuracy: 0.3690 - loss: 76272.1875 - val_accuracy: 0.3212 - val_loss: 382720.9375\n",
            "Epoch 97/100\n",
            "\u001b[1m18/18\u001b[0m \u001b[32m━━━━━━━━━━━━━━━━━━━━\u001b[0m\u001b[37m\u001b[0m \u001b[1m0s\u001b[0m 9ms/step - accuracy: 0.3478 - loss: 66072.5078 - val_accuracy: 0.2993 - val_loss: 637884.9375\n",
            "Epoch 98/100\n",
            "\u001b[1m18/18\u001b[0m \u001b[32m━━━━━━━━━━━━━━━━━━━━\u001b[0m\u001b[37m\u001b[0m \u001b[1m0s\u001b[0m 8ms/step - accuracy: 0.3093 - loss: 67459.6562 - val_accuracy: 0.2847 - val_loss: 1304525.8750\n",
            "Epoch 99/100\n",
            "\u001b[1m18/18\u001b[0m \u001b[32m━━━━━━━━━━━━━━━━━━━━\u001b[0m\u001b[37m\u001b[0m \u001b[1m0s\u001b[0m 9ms/step - accuracy: 0.3471 - loss: 138405.1094 - val_accuracy: 0.3139 - val_loss: 584258.5000\n",
            "Epoch 100/100\n",
            "\u001b[1m18/18\u001b[0m \u001b[32m━━━━━━━━━━━━━━━━━━━━\u001b[0m\u001b[37m\u001b[0m \u001b[1m0s\u001b[0m 11ms/step - accuracy: 0.3773 - loss: 91241.9609 - val_accuracy: 0.2847 - val_loss: 618258.8125\n",
            "\u001b[1m6/6\u001b[0m \u001b[32m━━━━━━━━━━━━━━━━━━━━\u001b[0m\u001b[37m\u001b[0m \u001b[1m0s\u001b[0m 13ms/step\n",
            "[[30  4  1  2 10]\n",
            " [32 10  1  0 14]\n",
            " [ 2  1  0  0  1]\n",
            " [ 3  0  0  0  1]\n",
            " [34  5  0  1 19]]\n",
            "                  precision    recall  f1-score   support\n",
            "\n",
            "             Aha       0.30      0.64      0.41        47\n",
            "Doing Other Task       0.50      0.18      0.26        57\n",
            "         Impasse       0.00      0.00      0.00         4\n",
            "   Re-evaluation       0.00      0.00      0.00         4\n",
            "         Walking       0.42      0.32      0.37        59\n",
            "\n",
            "        accuracy                           0.35       171\n",
            "       macro avg       0.24      0.23      0.21       171\n",
            "    weighted avg       0.39      0.35      0.32       171\n",
            "\n",
            "Accuracy: 0.35\n"
          ]
        },
        {
          "output_type": "display_data",
          "data": {
            "text/plain": [
              "<Figure size 1000x700 with 2 Axes>"
            ],
            "image/png": "[encoded data removed]"
          },
          "metadata": {}
        }
      ]
    },
    {
      "cell_type": "code",
      "source": [
        "import numpy as np\n",
        "from scipy.signal import spectrogram\n",
        "\n",
        "# Assuming 'loaded_segments' is your EEG data with shape (853, 625, 16)\n",
        "\n",
        "def extract_frequency_features(segments):\n",
        "    # Initialize a list to store the feature vectors for each subject\n",
        "    feature_vectors = []\n",
        "\n",
        "    for segment in segments:\n",
        "        # Initialize a list to hold features for this segment\n",
        "        channel_features = []\n",
        "\n",
        "        # Iterate through each channel\n",
        "        for channel_data in segment.T:  # Transpose to iterate over channels\n",
        "            # Calculate the spectrogram for the current channel\n",
        "            freqs, times, Sxx = spectrogram(channel_data, fs=125, nperseg=16)\n",
        "\n",
        "            Sxx_magnitude = np.abs(Sxx)\n",
        "\n",
        "            mean_power = np.mean(Sxx_magnitude)\n",
        "            std_power = np.std(Sxx_magnitude)\n",
        "            peak_freq = freqs[np.argmax(np.mean(Sxx_magnitude, axis=1))]\n",
        "            # Append the features for this channel\n",
        "            channel_features.extend([mean_power, std_power, peak_freq])\n",
        "\n",
        "        # Append the feature vector for this segment\n",
        "        feature_vectors.append(channel_features)\n",
        "\n",
        "    return np.array(feature_vectors)\n",
        "\n",
        "# Extract frequency features\n",
        "frequency_features = extract_frequency_features(loaded_segments)\n",
        "\n",
        "# The shape of 'frequency_features' will be (853, 48), assuming 3 features per channel (16 channels)\n",
        "print(frequency_features.shape)"
      ],
      "metadata": {
        "colab": {
          "base_uri": "https://localhost:8080/"
        },
        "id": "YcgelYU6-TM6",
        "outputId": "3d438d51-565e-4687-d2d3-68f74e2a0207"
      },
      "execution_count": null,
      "outputs": [
        {
          "output_type": "stream",
          "name": "stdout",
          "text": [
            "(853, 48)\n"
          ]
        }
      ]
    },
    {
      "cell_type": "code",
      "source": [
        "frequency_features.shape"
      ],
      "metadata": {
        "colab": {
          "base_uri": "https://localhost:8080/"
        },
        "id": "cCvFIPVC_8ss",
        "outputId": "b2497d84-9c39-4157-9aef-f2277d6db630"
      },
      "execution_count": null,
      "outputs": [
        {
          "output_type": "execute_result",
          "data": {
            "text/plain": [
              "(853, 48)"
            ]
          },
          "metadata": {},
          "execution_count": 19
        }
      ]
    },
    {
      "cell_type": "code",
      "source": [
        "import numpy as np\n",
        "import tensorflow as tf\n",
        "from sklearn.model_selection import train_test_split\n",
        "from sklearn.metrics import classification_report, confusion_matrix, accuracy_score\n",
        "from sklearn.preprocessing import LabelEncoder\n",
        "from tensorflow.keras.utils import to_categorical\n",
        "import matplotlib.pyplot as plt\n",
        "import seaborn as sns\n",
        "\n",
        "# Assuming combined_features shape: (853, 112)\n",
        "# Using loaded_labels as your labels\n",
        "labels = loaded_labels  # Ensure this variable holds your label data\n",
        "\n",
        "# Verify unique labels\n",
        "print(\"Unique labels:\", np.unique(labels))\n",
        "\n",
        "# Encode the labels\n",
        "label_encoder = LabelEncoder()\n",
        "y_encoded = label_encoder.fit_transform(labels)  # Convert labels to integers\n",
        "print(\"Encoded labels:\", y_encoded)\n",
        "\n",
        "# Check number of classes\n",
        "num_classes = len(np.unique(y_encoded))\n",
        "print(\"Number of classes:\", num_classes)\n",
        "\n",
        "# One-hot encode the labels\n",
        "y_categorical = to_categorical(y_encoded, num_classes=num_classes)  # Specify num_classes\n",
        "\n",
        "# Reshape combined features for CNN\n",
        "combined_freq_features_reshaped = frequency_features.reshape(-1, 48, 1, 1)\n",
        "\n",
        "# Ensure the data types are correct\n",
        "combined_freq_features_reshaped = combined_freq_features_reshaped.astype(np.float32)\n",
        "y_categorical = y_categorical.astype(np.float32)\n",
        "\n",
        "# Split the data into training and testing sets (80% train, 20% test)\n",
        "X_train, X_test, y_train, y_test = train_test_split(combined_freq_features_reshaped, y_categorical, test_size=0.2, random_state=42)\n",
        "\n",
        "# Define the CNN model\n",
        "model = tf.keras.Sequential([\n",
        "    tf.keras.layers.Input(shape=(48, 1, 1)),  # Input layer\n",
        "    tf.keras.layers.Conv2D(32, (3, 1), activation='relu'),\n",
        "    tf.keras.layers.MaxPooling2D(pool_size=(2, 1)),\n",
        "    tf.keras.layers.Conv2D(64, (3, 1), activation='relu'),\n",
        "    tf.keras.layers.MaxPooling2D(pool_size=(2, 1)),\n",
        "    tf.keras.layers.Flatten(),\n",
        "    tf.keras.layers.Dense(128, activation='relu'),\n",
        "    tf.keras.layers.Dense(num_classes, activation='softmax')  # Use num_classes here\n",
        "])\n",
        "\n",
        "# Compile the model\n",
        "model.compile(optimizer='adam', loss='categorical_crossentropy', metrics=['accuracy'])\n",
        "\n",
        "# Train the model\n",
        "model.fit(X_train, y_train, epochs=10, batch_size=32, validation_split=0.2)\n",
        "\n",
        "# Make predictions on the test set\n",
        "y_pred_prob = model.predict(X_test)\n",
        "y_pred = np.argmax(y_pred_prob, axis=1)  # Get the index of the class with the highest probability\n",
        "\n",
        "# Convert predictions back to original labels\n",
        "y_pred_labels = label_encoder.inverse_transform(y_pred)\n",
        "\n",
        "# Evaluate the model\n",
        "conf_matrix = confusion_matrix(np.argmax(y_test, axis=1), y_pred)  # Use the one-hot encoded true labels\n",
        "print(conf_matrix)\n",
        "print(classification_report(np.argmax(y_test, axis=1), y_pred, target_names=label_encoder.classes_))\n",
        "\n",
        "# Calculate accuracy\n",
        "accuracy = accuracy_score(np.argmax(y_test, axis=1), y_pred)\n",
        "print(f'Accuracy: {accuracy:.2f}')\n",
        "\n",
        "# Plot the confusion matrix\n",
        "plt.figure(figsize=(10, 7))\n",
        "sns.heatmap(conf_matrix, annot=True, fmt='d', cmap='Blues', xticklabels=label_encoder.classes_, yticklabels=label_encoder.classes_)\n",
        "plt.ylabel('Actual')\n",
        "plt.xlabel('Predicted')\n",
        "plt.title('Confusion Matrix')\n",
        "plt.show()"
      ],
      "metadata": {
        "colab": {
          "base_uri": "https://localhost:8080/",
          "height": 1000
        },
        "id": "VMj9VEHzGlLs",
        "outputId": "48aec5b6-bdcf-4fa1-dac5-5caaf4538edc"
      },
      "execution_count": null,
      "outputs": [
        {
          "output_type": "stream",
          "name": "stdout",
          "text": [
            "Unique labels: ['Aha' 'Doing Other Task' 'Impasse' 'Re-evaluation' 'Walking']\n",
            "Encoded labels: [4 0 1 2 3 2 2 4 0 1 4 0 1 4 0 1 2 4 0 1 4 0 1 4 0 1 0 1 4 0 1 4 0 1 4 0 1\n",
            " 4 0 1 4 0 1 4 0 1 4 0 1 4 0 1 4 0 1 4 0 1 4 0 1 4 0 1 4 0 1 4 0 1 4 0 1 4\n",
            " 0 1 4 0 1 4 0 1 4 0 1 4 0 1 4 0 1 4 0 1 4 0 1 4 0 1 4 0 1 0 1 4 0 1 3 4 0\n",
            " 1 4 0 1 4 0 1 4 0 1 4 0 1 4 0 1 4 0 1 4 0 1 4 0 1 3 4 0 1 4 0 1 4 0 1 4 0\n",
            " 1 4 0 1 4 0 1 4 0 1 4 0 1 4 0 1 4 0 1 2 3 4 0 4 0 1 4 0 1 4 0 1 4 0 1 4 0\n",
            " 1 4 0 1 4 0 1 4 0 1 4 0 1 4 0 1 3 4 0 1 4 0 1 4 0 1 4 0 1 4 0 1 4 0 1 4 0\n",
            " 1 4 0 1 4 0 1 4 0 1 4 0 1 3 4 0 1 4 0 1 4 0 1 4 0 1 4 0 1 4 0 1 4 0 1 4 0\n",
            " 1 4 0 1 4 0 1 0 1 4 0 1 4 0 1 4 0 1 4 0 1 4 0 4 0 1 4 0 1 4 0 1 4 0 1 4 0\n",
            " 1 4 0 1 4 0 1 3 4 0 1 4 0 1 4 0 1 4 0 1 4 0 1 4 0 1 4 0 1 4 0 1 4 0 1 4 0\n",
            " 1 3 0 1 3 0 1 4 0 1 4 0 1 4 0 1 4 0 1 4 0 1 0 1 3 4 0 1 4 0 1 4 0 1 4 0 1\n",
            " 3 0 1 4 0 4 0 1 4 0 1 4 0 1 2 3 0 1 4 0 1 4 0 1 4 0 1 4 0 1 4 0 1 4 0 1 3\n",
            " 4 0 1 4 0 1 4 0 1 4 0 1 4 0 1 4 0 1 4 0 1 4 0 1 4 0 1 4 0 1 4 0 1 4 0 1 4\n",
            " 0 1 0 1 4 0 1 4 0 1 4 0 1 4 0 1 4 0 1 4 0 1 3 4 0 1 4 0 1 4 0 1 4 0 1 4 0\n",
            " 1 4 0 1 4 0 1 4 0 1 3 4 0 1 4 0 1 4 0 1 4 0 1 0 1 3 4 0 1 4 0 1 4 0 1 4 0\n",
            " 1 4 0 1 4 0 1 4 0 1 4 0 1 3 4 0 1 3 4 0 1 4 0 1 4 0 1 4 0 1 4 0 1 4 0 1 4\n",
            " 0 1 4 0 1 4 0 1 2 4 0 1 4 0 1 4 0 1 4 0 1 4 0 1 2 4 0 1 4 0 1 4 0 1 4 0 1\n",
            " 4 0 1 4 0 1 3 4 0 1 4 0 1 4 0 1 4 0 1 4 0 1 4 0 1 4 0 1 4 0 1 4 0 1 4 0 1\n",
            " 4 0 1 4 0 1 4 0 1 4 0 1 4 0 1 4 0 1 3 3 4 0 1 4 0 1 0 1 3 4 0 1 4 0 1 4 0\n",
            " 1 4 0 1 4 0 1 4 0 1 4 0 1 4 0 1 0 1 4 0 1 4 0 1 4 0 1 4 0 1 0 1 4 0 1 4 0\n",
            " 1 4 0 1 4 0 1 4 0 1 4 0 1 4 0 1 4 0 1 4 0 1 4 0 1 4 0 1 0 1 4 0 1 4 0 1 4\n",
            " 0 1 4 0 1 4 0 1 4 0 1 2 4 0 1 4 0 1 4 0 1 1 4 0 1 4 0 1 4 0 1 4 0 1 0 1 4\n",
            " 0 4 0 1 4 0 1 4 0 1 4 0 1 4 0 1 4 0 1 4 0 1 4 0 1 0 1 4 0 1 4 0 1 4 0 1 3\n",
            " 0 1 4 0 1 4 0 1 4 0 1 4 0 1 4 0 1 4 0 1 4 0 1 4 0 1 2 4 0 1 4 0 1 0 1 2 2\n",
            " 2 2]\n",
            "Number of classes: 5\n",
            "Epoch 1/10\n",
            "\u001b[1m18/18\u001b[0m \u001b[32m━━━━━━━━━━━━━━━━━━━━\u001b[0m\u001b[37m\u001b[0m \u001b[1m7s\u001b[0m 55ms/step - accuracy: 0.3112 - loss: 667929.3750 - val_accuracy: 0.3650 - val_loss: 150125.7969\n",
            "Epoch 2/10\n",
            "\u001b[1m18/18\u001b[0m \u001b[32m━━━━━━━━━━━━━━━━━━━━\u001b[0m\u001b[37m\u001b[0m \u001b[1m1s\u001b[0m 26ms/step - accuracy: 0.3538 - loss: 211016.4375 - val_accuracy: 0.3358 - val_loss: 174314.2969\n",
            "Epoch 3/10\n",
            "\u001b[1m18/18\u001b[0m \u001b[32m━━━━━━━━━━━━━━━━━━━━\u001b[0m\u001b[37m\u001b[0m \u001b[1m1s\u001b[0m 21ms/step - accuracy: 0.3183 - loss: 97532.8047 - val_accuracy: 0.2628 - val_loss: 387184.9375\n",
            "Epoch 4/10\n",
            "\u001b[1m18/18\u001b[0m \u001b[32m━━━━━━━━━━━━━━━━━━━━\u001b[0m\u001b[37m\u001b[0m \u001b[1m1s\u001b[0m 19ms/step - accuracy: 0.3043 - loss: 164495.2188 - val_accuracy: 0.3212 - val_loss: 155054.1406\n",
            "Epoch 5/10\n",
            "\u001b[1m18/18\u001b[0m \u001b[32m━━━━━━━━━━━━━━━━━━━━\u001b[0m\u001b[37m\u001b[0m \u001b[1m1s\u001b[0m 14ms/step - accuracy: 0.3502 - loss: 90945.7188 - val_accuracy: 0.2774 - val_loss: 156600.4844\n",
            "Epoch 6/10\n",
            "\u001b[1m18/18\u001b[0m \u001b[32m━━━━━━━━━━━━━━━━━━━━\u001b[0m\u001b[37m\u001b[0m \u001b[1m0s\u001b[0m 21ms/step - accuracy: 0.2951 - loss: 152309.2656 - val_accuracy: 0.2409 - val_loss: 175817.6719\n",
            "Epoch 7/10\n",
            "\u001b[1m18/18\u001b[0m \u001b[32m━━━━━━━━━━━━━━━━━━━━\u001b[0m\u001b[37m\u001b[0m \u001b[1m1s\u001b[0m 19ms/step - accuracy: 0.3248 - loss: 55360.0625 - val_accuracy: 0.2847 - val_loss: 137893.5625\n",
            "Epoch 8/10\n",
            "\u001b[1m18/18\u001b[0m \u001b[32m━━━━━━━━━━━━━━━━━━━━\u001b[0m\u001b[37m\u001b[0m \u001b[1m1s\u001b[0m 23ms/step - accuracy: 0.3469 - loss: 83280.2266 - val_accuracy: 0.2701 - val_loss: 267993.5312\n",
            "Epoch 9/10\n",
            "\u001b[1m18/18\u001b[0m \u001b[32m━━━━━━━━━━━━━━━━━━━━\u001b[0m\u001b[37m\u001b[0m \u001b[1m0s\u001b[0m 18ms/step - accuracy: 0.3229 - loss: 81123.8984 - val_accuracy: 0.2701 - val_loss: 327907.1250\n",
            "Epoch 10/10\n",
            "\u001b[1m18/18\u001b[0m \u001b[32m━━━━━━━━━━━━━━━━━━━━\u001b[0m\u001b[37m\u001b[0m \u001b[1m1s\u001b[0m 18ms/step - accuracy: 0.3166 - loss: 135218.7188 - val_accuracy: 0.2628 - val_loss: 286816.5312\n",
            "\u001b[1m6/6\u001b[0m \u001b[32m━━━━━━━━━━━━━━━━━━━━\u001b[0m\u001b[37m\u001b[0m \u001b[1m1s\u001b[0m 37ms/step\n",
            "[[19  8  0  0 20]\n",
            " [21 11  0  1 24]\n",
            " [ 0  2  0  0  2]\n",
            " [ 2  0  0  0  2]\n",
            " [20  7  1  1 30]]\n",
            "                  precision    recall  f1-score   support\n",
            "\n",
            "             Aha       0.31      0.40      0.35        47\n",
            "Doing Other Task       0.39      0.19      0.26        57\n",
            "         Impasse       0.00      0.00      0.00         4\n",
            "   Re-evaluation       0.00      0.00      0.00         4\n",
            "         Walking       0.38      0.51      0.44        59\n",
            "\n",
            "        accuracy                           0.35       171\n",
            "       macro avg       0.22      0.22      0.21       171\n",
            "    weighted avg       0.35      0.35      0.33       171\n",
            "\n",
            "Accuracy: 0.35\n"
          ]
        },
        {
          "output_type": "display_data",
          "data": {
            "text/plain": [
              "<Figure size 1000x700 with 2 Axes>"
            ],
            "image/png": "[encoded data removed]"
          },
          "metadata": {}
        }
      ]
    },
    {
      "cell_type": "markdown",
      "source": [
        "**EEGnet**"
      ],
      "metadata": {
        "id": "xoZQ4E_0hipP"
      }
    },
    {
      "cell_type": "code",
      "source": [
        "# Import necessary libraries\n",
        "import numpy as np\n",
        "import tensorflow as tf\n",
        "from tensorflow.keras import layers, models\n",
        "from tensorflow.keras.utils import to_categorical\n",
        "from sklearn.model_selection import train_test_split\n",
        "from sklearn.preprocessing import LabelEncoder\n",
        "\n",
        "# Load your dataset\n",
        "input_file_all = '/content/drive/MyDrive/Project/ExtractedSegments.npy'\n",
        "loaded_segments = np.load(input_file_all, allow_pickle=True)\n",
        "\n",
        "input_labels_all = '/content/drive/MyDrive/Project/ExtractedLabels.npy'\n",
        "loaded_labels = np.load(input_labels_all, allow_pickle=True)\n",
        "\n",
        "# Data inspection\n",
        "print(f'Total segments loaded: {len(loaded_segments)}')\n",
        "print(f'Sample segment shape: {loaded_segments[0].shape}')\n",
        "print(f'Total labels loaded: {len(loaded_labels)}')\n",
        "print(f'Sample label: {loaded_labels[0]}')\n",
        "\n",
        "# Filter out inconsistent segments\n",
        "filtered_segments = []\n",
        "filtered_labels = []\n",
        "\n",
        "for i in range(len(loaded_segments)):\n",
        "    if loaded_segments[i].shape == (625, 16):\n",
        "        filtered_segments.append(loaded_segments[i])\n",
        "        filtered_labels.append(loaded_labels[i])\n",
        "    else:\n",
        "        print(f\"Inconsistent shape for segment {i}: {loaded_segments[i].shape}\")\n",
        "\n",
        "# Convert to NumPy arrays\n",
        "filtered_segments = np.array(filtered_segments, dtype=np.float32)\n",
        "filtered_labels = np.array(filtered_labels)\n",
        "\n",
        "# Verify the filtered data\n",
        "print(f'Filtered segments shape: {filtered_segments.shape}')\n",
        "print(f'Filtered labels shape: {filtered_labels.shape}')\n",
        "\n",
        "# Check the type and dtype again\n",
        "print(type(filtered_segments), filtered_segments.dtype)  # Should be <class 'numpy.ndarray'> float32\n",
        "print(type(filtered_labels), filtered_labels.dtype)      # Should be <class 'numpy.ndarray'> object\n",
        "\n",
        "# Split data into training and test sets\n",
        "X_train, X_test, y_train, y_test = train_test_split(filtered_segments, filtered_labels, test_size=0.2, random_state=42)\n",
        "\n",
        "# Reshape the data to match the EEGNet input format (samples, channels, time_points)\n",
        "X_train = np.expand_dims(X_train, axis=-1)  # Add a channel dimension for Conv2D\n",
        "X_test = np.expand_dims(X_test, axis=-1)\n",
        "\n",
        "X_train = X_train.reshape(-1, 16, 625, 1)\n",
        "X_test = X_test.reshape(-1, 16, 625, 1)\n",
        "\n",
        "# Encode labels (assuming labels are categorical like 'Walking', 'Thinking', etc.)\n",
        "encoder = LabelEncoder()\n",
        "y_train = encoder.fit_transform(y_train)\n",
        "y_test = encoder.transform(y_test)\n",
        "\n",
        "# Convert labels to categorical\n",
        "num_classes = len(np.unique(y_train))  # Adjust based on your dataset\n",
        "y_train = to_categorical(y_train, num_classes)\n",
        "y_test = to_categorical(y_test, num_classes)\n",
        "\n",
        "# EEGNet architecture (same as before)\n",
        "def EEGNet(nb_classes, Chans=16, Samples=625):\n",
        "    input1 = layers.Input(shape=(Chans, Samples, 1))  # (16, 625, 1)\n",
        "\n",
        "    # First block\n",
        "    block1 = layers.Conv2D(16, (1, 64), padding='same')(input1)\n",
        "    block1 = layers.BatchNormalization()(block1)\n",
        "    block1 = layers.DepthwiseConv2D((Chans, 1), use_bias=False, depth_multiplier=2)(block1)\n",
        "    block1 = layers.BatchNormalization()(block1)\n",
        "    block1 = layers.Activation('elu')(block1)\n",
        "    block1 = layers.AveragePooling2D((1, 4))(block1)\n",
        "    block1 = layers.Dropout(0.25)(block1)\n",
        "\n",
        "    # Second block\n",
        "    block2 = layers.SeparableConv2D(16, (1, 16), padding='same')(block1)\n",
        "    block2 = layers.BatchNormalization()(block2)\n",
        "    block2 = layers.Activation('elu')(block2)\n",
        "    block2 = layers.AveragePooling2D((1, 8))(block2)\n",
        "    block2 = layers.Dropout(0.25)(block2)\n",
        "\n",
        "    # Classification block\n",
        "    flatten = layers.Flatten()(block2)\n",
        "    dense = layers.Dense(nb_classes, kernel_constraint=tf.keras.constraints.max_norm(0.25))(flatten)\n",
        "    softmax = layers.Activation('softmax')(dense)\n",
        "\n",
        "    return models.Model(inputs=input1, outputs=softmax)\n",
        "\n",
        "# Model parameters\n",
        "nb_classes = y_train.shape[1]  # Number of label classes\n",
        "model = EEGNet(nb_classes=nb_classes, Chans=16, Samples=625)\n",
        "\n",
        "# Compile the model\n",
        "model.compile(optimizer='adam', loss='categorical_crossentropy', metrics=['accuracy'])\n",
        "\n",
        "# Summary of the model\n",
        "print(model.summary())\n",
        "\n",
        "# Train the model\n",
        "model.fit(X_train, y_train, batch_size=64, epochs=100, validation_data=(X_test, y_test))\n",
        "\n",
        "# Evaluate the model on test data\n",
        "test_loss, test_acc = model.evaluate(X_test, y_test)\n",
        "print(f'Test accuracy: {test_acc}')"
      ],
      "metadata": {
        "colab": {
          "base_uri": "https://localhost:8080/",
          "height": 1000
        },
        "id": "LCKH7OVKEWkN",
        "outputId": "9075c982-bd15-436e-ef9b-4090e9222ba2"
      },
      "execution_count": null,
      "outputs": [
        {
          "output_type": "stream",
          "name": "stdout",
          "text": [
            "Total segments loaded: 853\n",
            "Sample segment shape: (625, 16)\n",
            "Total labels loaded: 853\n",
            "Sample label: Walking\n",
            "Inconsistent shape for segment 25: (697, 16)\n",
            "Inconsistent shape for segment 34: (626, 16)\n",
            "Inconsistent shape for segment 35: (624, 16)\n",
            "Inconsistent shape for segment 36: (626, 16)\n",
            "Inconsistent shape for segment 61: (626, 16)\n",
            "Inconsistent shape for segment 62: (624, 16)\n",
            "Inconsistent shape for segment 63: (626, 16)\n",
            "Inconsistent shape for segment 94: (624, 16)\n",
            "Inconsistent shape for segment 95: (626, 16)\n",
            "Inconsistent shape for segment 96: (624, 16)\n",
            "Inconsistent shape for segment 97: (626, 16)\n",
            "Inconsistent shape for segment 98: (1870, 16)\n",
            "Inconsistent shape for segment 102: (737, 16)\n",
            "Inconsistent shape for segment 133: (626, 16)\n",
            "Inconsistent shape for segment 134: (624, 16)\n",
            "Inconsistent shape for segment 135: (626, 16)\n",
            "Inconsistent shape for segment 153: (1983, 16)\n",
            "Inconsistent shape for segment 171: (733, 16)\n",
            "Inconsistent shape for segment 172: (626, 16)\n",
            "Inconsistent shape for segment 173: (624, 16)\n",
            "Inconsistent shape for segment 174: (626, 16)\n",
            "Inconsistent shape for segment 175: (624, 16)\n",
            "Inconsistent shape for segment 176: (626, 16)\n",
            "Inconsistent shape for segment 181: (1941, 16)\n",
            "Inconsistent shape for segment 182: (626, 16)\n",
            "Inconsistent shape for segment 198: (626, 16)\n",
            "Inconsistent shape for segment 199: (624, 16)\n",
            "Inconsistent shape for segment 200: (626, 16)\n",
            "Inconsistent shape for segment 242: (624, 16)\n",
            "Inconsistent shape for segment 243: (626, 16)\n",
            "Inconsistent shape for segment 244: (624, 16)\n",
            "Inconsistent shape for segment 245: (624, 16)\n",
            "Inconsistent shape for segment 246: (626, 16)\n",
            "Inconsistent shape for segment 247: (624, 16)\n",
            "Inconsistent shape for segment 249: (1807, 16)\n",
            "Inconsistent shape for segment 265: (921, 16)\n",
            "Inconsistent shape for segment 282: (684, 16)\n",
            "Inconsistent shape for segment 334: (970, 16)\n",
            "Inconsistent shape for segment 337: (662, 16)\n",
            "Inconsistent shape for segment 354: (792, 16)\n",
            "Inconsistent shape for segment 370: (691, 16)\n",
            "Inconsistent shape for segment 375: (662, 16)\n",
            "Inconsistent shape for segment 385: (1129, 16)\n",
            "Inconsistent shape for segment 386: (626, 16)\n",
            "Inconsistent shape for segment 387: (624, 16)\n",
            "Inconsistent shape for segment 388: (624, 16)\n",
            "Inconsistent shape for segment 389: (626, 16)\n",
            "Inconsistent shape for segment 390: (624, 16)\n",
            "Inconsistent shape for segment 394: (624, 16)\n",
            "Inconsistent shape for segment 395: (626, 16)\n",
            "Inconsistent shape for segment 396: (624, 16)\n",
            "Inconsistent shape for segment 416: (624, 16)\n",
            "Inconsistent shape for segment 417: (626, 16)\n",
            "Inconsistent shape for segment 418: (624, 16)\n",
            "Inconsistent shape for segment 425: (626, 16)\n",
            "Inconsistent shape for segment 426: (624, 16)\n",
            "Inconsistent shape for segment 427: (626, 16)\n",
            "Inconsistent shape for segment 445: (887, 16)\n",
            "Inconsistent shape for segment 470: (624, 16)\n",
            "Inconsistent shape for segment 471: (626, 16)\n",
            "Inconsistent shape for segment 472: (624, 16)\n",
            "Inconsistent shape for segment 484: (783, 16)\n",
            "Inconsistent shape for segment 485: (624, 16)\n",
            "Inconsistent shape for segment 486: (626, 16)\n",
            "Inconsistent shape for segment 487: (624, 16)\n",
            "Inconsistent shape for segment 495: (624, 16)\n",
            "Inconsistent shape for segment 496: (626, 16)\n",
            "Inconsistent shape for segment 497: (624, 16)\n",
            "Inconsistent shape for segment 503: (920, 16)\n",
            "Inconsistent shape for segment 551: (626, 16)\n",
            "Inconsistent shape for segment 552: (624, 16)\n",
            "Inconsistent shape for segment 553: (626, 16)\n",
            "Inconsistent shape for segment 585: (626, 16)\n",
            "Inconsistent shape for segment 586: (624, 16)\n",
            "Inconsistent shape for segment 587: (626, 16)\n",
            "Inconsistent shape for segment 610: (624, 16)\n",
            "Inconsistent shape for segment 636: (2015, 16)\n",
            "Inconsistent shape for segment 638: (626, 16)\n",
            "Inconsistent shape for segment 639: (624, 16)\n",
            "Inconsistent shape for segment 640: (626, 16)\n",
            "Inconsistent shape for segment 649: (626, 16)\n",
            "Inconsistent shape for segment 650: (624, 16)\n",
            "Inconsistent shape for segment 651: (626, 16)\n",
            "Inconsistent shape for segment 654: (1195, 16)\n",
            "Inconsistent shape for segment 668: (2088, 16)\n",
            "Inconsistent shape for segment 669: (624, 16)\n",
            "Inconsistent shape for segment 681: (654, 16)\n",
            "Inconsistent shape for segment 687: (846, 16)\n",
            "Inconsistent shape for segment 689: (819, 16)\n",
            "Inconsistent shape for segment 691: (1867, 16)\n",
            "Inconsistent shape for segment 695: (1013, 16)\n",
            "Inconsistent shape for segment 705: (1969, 16)\n",
            "Inconsistent shape for segment 728: (624, 16)\n",
            "Inconsistent shape for segment 729: (626, 16)\n",
            "Inconsistent shape for segment 730: (1044, 16)\n",
            "Inconsistent shape for segment 739: (626, 16)\n",
            "Inconsistent shape for segment 740: (624, 16)\n",
            "Inconsistent shape for segment 741: (626, 16)\n",
            "Inconsistent shape for segment 755: (624, 16)\n",
            "Inconsistent shape for segment 756: (626, 16)\n",
            "Inconsistent shape for segment 757: (624, 16)\n",
            "Inconsistent shape for segment 759: (754, 16)\n",
            "Inconsistent shape for segment 760: (754, 16)\n",
            "Inconsistent shape for segment 773: (1108, 16)\n",
            "Inconsistent shape for segment 776: (624, 16)\n",
            "Inconsistent shape for segment 777: (626, 16)\n",
            "Inconsistent shape for segment 778: (774, 16)\n",
            "Inconsistent shape for segment 788: (1775, 16)\n",
            "Inconsistent shape for segment 799: (624, 16)\n",
            "Inconsistent shape for segment 800: (626, 16)\n",
            "Inconsistent shape for segment 801: (982, 16)\n",
            "Inconsistent shape for segment 802: (1788, 16)\n",
            "Inconsistent shape for segment 813: (1124, 16)\n",
            "Inconsistent shape for segment 834: (624, 16)\n",
            "Inconsistent shape for segment 835: (626, 16)\n",
            "Inconsistent shape for segment 836: (624, 16)\n",
            "Inconsistent shape for segment 846: (1199, 16)\n",
            "Filtered segments shape: (736, 625, 16)\n",
            "Filtered labels shape: (736,)\n",
            "<class 'numpy.ndarray'> float32\n",
            "<class 'numpy.ndarray'> <U16\n"
          ]
        },
        {
          "output_type": "display_data",
          "data": {
            "text/plain": [
              "\u001b[1mModel: \"functional_10\"\u001b[0m\n"
            ],
            "text/html": [
              "<pre style=\"white-space:pre;overflow-x:auto;line-height:normal;font-family:Menlo,'DejaVu Sans Mono',consolas,'Courier New',monospace\"><span style=\"font-weight: bold\">Model: \"functional_10\"</span>\n",
              "</pre>\n"
            ]
          },
          "metadata": {}
        },
        {
          "output_type": "display_data",
          "data": {
            "text/plain": [
              "┏━━━━━━━━━━━━━━━━━━━━━━━━━━━━━━━━━━━━━━┳━━━━━━━━━━━━━━━━━━━━━━━━━━━━━┳━━━━━━━━━━━━━━━━━┓\n",
              "┃\u001b[1m \u001b[0m\u001b[1mLayer (type)                        \u001b[0m\u001b[1m \u001b[0m┃\u001b[1m \u001b[0m\u001b[1mOutput Shape               \u001b[0m\u001b[1m \u001b[0m┃\u001b[1m \u001b[0m\u001b[1m        Param #\u001b[0m\u001b[1m \u001b[0m┃\n",
              "┡━━━━━━━━━━━━━━━━━━━━━━━━━━━━━━━━━━━━━━╇━━━━━━━━━━━━━━━━━━━━━━━━━━━━━╇━━━━━━━━━━━━━━━━━┩\n",
              "│ input_layer_10 (\u001b[38;5;33mInputLayer\u001b[0m)          │ (\u001b[38;5;45mNone\u001b[0m, \u001b[38;5;34m16\u001b[0m, \u001b[38;5;34m625\u001b[0m, \u001b[38;5;34m1\u001b[0m)          │               \u001b[38;5;34m0\u001b[0m │\n",
              "├──────────────────────────────────────┼─────────────────────────────┼─────────────────┤\n",
              "│ conv2d_15 (\u001b[38;5;33mConv2D\u001b[0m)                   │ (\u001b[38;5;45mNone\u001b[0m, \u001b[38;5;34m16\u001b[0m, \u001b[38;5;34m625\u001b[0m, \u001b[38;5;34m16\u001b[0m)         │           \u001b[38;5;34m1,040\u001b[0m │\n",
              "├──────────────────────────────────────┼─────────────────────────────┼─────────────────┤\n",
              "│ batch_normalization_15               │ (\u001b[38;5;45mNone\u001b[0m, \u001b[38;5;34m16\u001b[0m, \u001b[38;5;34m625\u001b[0m, \u001b[38;5;34m16\u001b[0m)         │              \u001b[38;5;34m64\u001b[0m │\n",
              "│ (\u001b[38;5;33mBatchNormalization\u001b[0m)                 │                             │                 │\n",
              "├──────────────────────────────────────┼─────────────────────────────┼─────────────────┤\n",
              "│ depthwise_conv2d_5 (\u001b[38;5;33mDepthwiseConv2D\u001b[0m) │ (\u001b[38;5;45mNone\u001b[0m, \u001b[38;5;34m1\u001b[0m, \u001b[38;5;34m625\u001b[0m, \u001b[38;5;34m32\u001b[0m)          │             \u001b[38;5;34m512\u001b[0m │\n",
              "├──────────────────────────────────────┼─────────────────────────────┼─────────────────┤\n",
              "│ batch_normalization_16               │ (\u001b[38;5;45mNone\u001b[0m, \u001b[38;5;34m1\u001b[0m, \u001b[38;5;34m625\u001b[0m, \u001b[38;5;34m32\u001b[0m)          │             \u001b[38;5;34m128\u001b[0m │\n",
              "│ (\u001b[38;5;33mBatchNormalization\u001b[0m)                 │                             │                 │\n",
              "├──────────────────────────────────────┼─────────────────────────────┼─────────────────┤\n",
              "│ activation_15 (\u001b[38;5;33mActivation\u001b[0m)           │ (\u001b[38;5;45mNone\u001b[0m, \u001b[38;5;34m1\u001b[0m, \u001b[38;5;34m625\u001b[0m, \u001b[38;5;34m32\u001b[0m)          │               \u001b[38;5;34m0\u001b[0m │\n",
              "├──────────────────────────────────────┼─────────────────────────────┼─────────────────┤\n",
              "│ average_pooling2d_10                 │ (\u001b[38;5;45mNone\u001b[0m, \u001b[38;5;34m1\u001b[0m, \u001b[38;5;34m156\u001b[0m, \u001b[38;5;34m32\u001b[0m)          │               \u001b[38;5;34m0\u001b[0m │\n",
              "│ (\u001b[38;5;33mAveragePooling2D\u001b[0m)                   │                             │                 │\n",
              "├──────────────────────────────────────┼─────────────────────────────┼─────────────────┤\n",
              "│ dropout_10 (\u001b[38;5;33mDropout\u001b[0m)                 │ (\u001b[38;5;45mNone\u001b[0m, \u001b[38;5;34m1\u001b[0m, \u001b[38;5;34m156\u001b[0m, \u001b[38;5;34m32\u001b[0m)          │               \u001b[38;5;34m0\u001b[0m │\n",
              "├──────────────────────────────────────┼─────────────────────────────┼─────────────────┤\n",
              "│ separable_conv2d_5 (\u001b[38;5;33mSeparableConv2D\u001b[0m) │ (\u001b[38;5;45mNone\u001b[0m, \u001b[38;5;34m1\u001b[0m, \u001b[38;5;34m156\u001b[0m, \u001b[38;5;34m16\u001b[0m)          │           \u001b[38;5;34m1,040\u001b[0m │\n",
              "├──────────────────────────────────────┼─────────────────────────────┼─────────────────┤\n",
              "│ batch_normalization_17               │ (\u001b[38;5;45mNone\u001b[0m, \u001b[38;5;34m1\u001b[0m, \u001b[38;5;34m156\u001b[0m, \u001b[38;5;34m16\u001b[0m)          │              \u001b[38;5;34m64\u001b[0m │\n",
              "│ (\u001b[38;5;33mBatchNormalization\u001b[0m)                 │                             │                 │\n",
              "├──────────────────────────────────────┼─────────────────────────────┼─────────────────┤\n",
              "│ activation_16 (\u001b[38;5;33mActivation\u001b[0m)           │ (\u001b[38;5;45mNone\u001b[0m, \u001b[38;5;34m1\u001b[0m, \u001b[38;5;34m156\u001b[0m, \u001b[38;5;34m16\u001b[0m)          │               \u001b[38;5;34m0\u001b[0m │\n",
              "├──────────────────────────────────────┼─────────────────────────────┼─────────────────┤\n",
              "│ average_pooling2d_11                 │ (\u001b[38;5;45mNone\u001b[0m, \u001b[38;5;34m1\u001b[0m, \u001b[38;5;34m19\u001b[0m, \u001b[38;5;34m16\u001b[0m)           │               \u001b[38;5;34m0\u001b[0m │\n",
              "│ (\u001b[38;5;33mAveragePooling2D\u001b[0m)                   │                             │                 │\n",
              "├──────────────────────────────────────┼─────────────────────────────┼─────────────────┤\n",
              "│ dropout_11 (\u001b[38;5;33mDropout\u001b[0m)                 │ (\u001b[38;5;45mNone\u001b[0m, \u001b[38;5;34m1\u001b[0m, \u001b[38;5;34m19\u001b[0m, \u001b[38;5;34m16\u001b[0m)           │               \u001b[38;5;34m0\u001b[0m │\n",
              "├──────────────────────────────────────┼─────────────────────────────┼─────────────────┤\n",
              "│ flatten_10 (\u001b[38;5;33mFlatten\u001b[0m)                 │ (\u001b[38;5;45mNone\u001b[0m, \u001b[38;5;34m304\u001b[0m)                 │               \u001b[38;5;34m0\u001b[0m │\n",
              "├──────────────────────────────────────┼─────────────────────────────┼─────────────────┤\n",
              "│ dense_15 (\u001b[38;5;33mDense\u001b[0m)                     │ (\u001b[38;5;45mNone\u001b[0m, \u001b[38;5;34m5\u001b[0m)                   │           \u001b[38;5;34m1,525\u001b[0m │\n",
              "├──────────────────────────────────────┼─────────────────────────────┼─────────────────┤\n",
              "│ activation_17 (\u001b[38;5;33mActivation\u001b[0m)           │ (\u001b[38;5;45mNone\u001b[0m, \u001b[38;5;34m5\u001b[0m)                   │               \u001b[38;5;34m0\u001b[0m │\n",
              "└──────────────────────────────────────┴─────────────────────────────┴─────────────────┘\n"
            ],
            "text/html": [
              "<pre style=\"white-space:pre;overflow-x:auto;line-height:normal;font-family:Menlo,'DejaVu Sans Mono',consolas,'Courier New',monospace\">┏━━━━━━━━━━━━━━━━━━━━━━━━━━━━━━━━━━━━━━┳━━━━━━━━━━━━━━━━━━━━━━━━━━━━━┳━━━━━━━━━━━━━━━━━┓\n",
              "┃<span style=\"font-weight: bold\"> Layer (type)                         </span>┃<span style=\"font-weight: bold\"> Output Shape                </span>┃<span style=\"font-weight: bold\">         Param # </span>┃\n",
              "┡━━━━━━━━━━━━━━━━━━━━━━━━━━━━━━━━━━━━━━╇━━━━━━━━━━━━━━━━━━━━━━━━━━━━━╇━━━━━━━━━━━━━━━━━┩\n",
              "│ input_layer_10 (<span style=\"color: #0087ff; text-decoration-color: #0087ff\">InputLayer</span>)          │ (<span style=\"color: #00d7ff; text-decoration-color: #00d7ff\">None</span>, <span style=\"color: #00af00; text-decoration-color: #00af00\">16</span>, <span style=\"color: #00af00; text-decoration-color: #00af00\">625</span>, <span style=\"color: #00af00; text-decoration-color: #00af00\">1</span>)          │               <span style=\"color: #00af00; text-decoration-color: #00af00\">0</span> │\n",
              "├──────────────────────────────────────┼─────────────────────────────┼─────────────────┤\n",
              "│ conv2d_15 (<span style=\"color: #0087ff; text-decoration-color: #0087ff\">Conv2D</span>)                   │ (<span style=\"color: #00d7ff; text-decoration-color: #00d7ff\">None</span>, <span style=\"color: #00af00; text-decoration-color: #00af00\">16</span>, <span style=\"color: #00af00; text-decoration-color: #00af00\">625</span>, <span style=\"color: #00af00; text-decoration-color: #00af00\">16</span>)         │           <span style=\"color: #00af00; text-decoration-color: #00af00\">1,040</span> │\n",
              "├──────────────────────────────────────┼─────────────────────────────┼─────────────────┤\n",
              "│ batch_normalization_15               │ (<span style=\"color: #00d7ff; text-decoration-color: #00d7ff\">None</span>, <span style=\"color: #00af00; text-decoration-color: #00af00\">16</span>, <span style=\"color: #00af00; text-decoration-color: #00af00\">625</span>, <span style=\"color: #00af00; text-decoration-color: #00af00\">16</span>)         │              <span style=\"color: #00af00; text-decoration-color: #00af00\">64</span> │\n",
              "│ (<span style=\"color: #0087ff; text-decoration-color: #0087ff\">BatchNormalization</span>)                 │                             │                 │\n",
              "├──────────────────────────────────────┼─────────────────────────────┼─────────────────┤\n",
              "│ depthwise_conv2d_5 (<span style=\"color: #0087ff; text-decoration-color: #0087ff\">DepthwiseConv2D</span>) │ (<span style=\"color: #00d7ff; text-decoration-color: #00d7ff\">None</span>, <span style=\"color: #00af00; text-decoration-color: #00af00\">1</span>, <span style=\"color: #00af00; text-decoration-color: #00af00\">625</span>, <span style=\"color: #00af00; text-decoration-color: #00af00\">32</span>)          │             <span style=\"color: #00af00; text-decoration-color: #00af00\">512</span> │\n",
              "├──────────────────────────────────────┼─────────────────────────────┼─────────────────┤\n",
              "│ batch_normalization_16               │ (<span style=\"color: #00d7ff; text-decoration-color: #00d7ff\">None</span>, <span style=\"color: #00af00; text-decoration-color: #00af00\">1</span>, <span style=\"color: #00af00; text-decoration-color: #00af00\">625</span>, <span style=\"color: #00af00; text-decoration-color: #00af00\">32</span>)          │             <span style=\"color: #00af00; text-decoration-color: #00af00\">128</span> │\n",
              "│ (<span style=\"color: #0087ff; text-decoration-color: #0087ff\">BatchNormalization</span>)                 │                             │                 │\n",
              "├──────────────────────────────────────┼─────────────────────────────┼─────────────────┤\n",
              "│ activation_15 (<span style=\"color: #0087ff; text-decoration-color: #0087ff\">Activation</span>)           │ (<span style=\"color: #00d7ff; text-decoration-color: #00d7ff\">None</span>, <span style=\"color: #00af00; text-decoration-color: #00af00\">1</span>, <span style=\"color: #00af00; text-decoration-color: #00af00\">625</span>, <span style=\"color: #00af00; text-decoration-color: #00af00\">32</span>)          │               <span style=\"color: #00af00; text-decoration-color: #00af00\">0</span> │\n",
              "├──────────────────────────────────────┼─────────────────────────────┼─────────────────┤\n",
              "│ average_pooling2d_10                 │ (<span style=\"color: #00d7ff; text-decoration-color: #00d7ff\">None</span>, <span style=\"color: #00af00; text-decoration-color: #00af00\">1</span>, <span style=\"color: #00af00; text-decoration-color: #00af00\">156</span>, <span style=\"color: #00af00; text-decoration-color: #00af00\">32</span>)          │               <span style=\"color: #00af00; text-decoration-color: #00af00\">0</span> │\n",
              "│ (<span style=\"color: #0087ff; text-decoration-color: #0087ff\">AveragePooling2D</span>)                   │                             │                 │\n",
              "├──────────────────────────────────────┼─────────────────────────────┼─────────────────┤\n",
              "│ dropout_10 (<span style=\"color: #0087ff; text-decoration-color: #0087ff\">Dropout</span>)                 │ (<span style=\"color: #00d7ff; text-decoration-color: #00d7ff\">None</span>, <span style=\"color: #00af00; text-decoration-color: #00af00\">1</span>, <span style=\"color: #00af00; text-decoration-color: #00af00\">156</span>, <span style=\"color: #00af00; text-decoration-color: #00af00\">32</span>)          │               <span style=\"color: #00af00; text-decoration-color: #00af00\">0</span> │\n",
              "├──────────────────────────────────────┼─────────────────────────────┼─────────────────┤\n",
              "│ separable_conv2d_5 (<span style=\"color: #0087ff; text-decoration-color: #0087ff\">SeparableConv2D</span>) │ (<span style=\"color: #00d7ff; text-decoration-color: #00d7ff\">None</span>, <span style=\"color: #00af00; text-decoration-color: #00af00\">1</span>, <span style=\"color: #00af00; text-decoration-color: #00af00\">156</span>, <span style=\"color: #00af00; text-decoration-color: #00af00\">16</span>)          │           <span style=\"color: #00af00; text-decoration-color: #00af00\">1,040</span> │\n",
              "├──────────────────────────────────────┼─────────────────────────────┼─────────────────┤\n",
              "│ batch_normalization_17               │ (<span style=\"color: #00d7ff; text-decoration-color: #00d7ff\">None</span>, <span style=\"color: #00af00; text-decoration-color: #00af00\">1</span>, <span style=\"color: #00af00; text-decoration-color: #00af00\">156</span>, <span style=\"color: #00af00; text-decoration-color: #00af00\">16</span>)          │              <span style=\"color: #00af00; text-decoration-color: #00af00\">64</span> │\n",
              "│ (<span style=\"color: #0087ff; text-decoration-color: #0087ff\">BatchNormalization</span>)                 │                             │                 │\n",
              "├──────────────────────────────────────┼─────────────────────────────┼─────────────────┤\n",
              "│ activation_16 (<span style=\"color: #0087ff; text-decoration-color: #0087ff\">Activation</span>)           │ (<span style=\"color: #00d7ff; text-decoration-color: #00d7ff\">None</span>, <span style=\"color: #00af00; text-decoration-color: #00af00\">1</span>, <span style=\"color: #00af00; text-decoration-color: #00af00\">156</span>, <span style=\"color: #00af00; text-decoration-color: #00af00\">16</span>)          │               <span style=\"color: #00af00; text-decoration-color: #00af00\">0</span> │\n",
              "├──────────────────────────────────────┼─────────────────────────────┼─────────────────┤\n",
              "│ average_pooling2d_11                 │ (<span style=\"color: #00d7ff; text-decoration-color: #00d7ff\">None</span>, <span style=\"color: #00af00; text-decoration-color: #00af00\">1</span>, <span style=\"color: #00af00; text-decoration-color: #00af00\">19</span>, <span style=\"color: #00af00; text-decoration-color: #00af00\">16</span>)           │               <span style=\"color: #00af00; text-decoration-color: #00af00\">0</span> │\n",
              "│ (<span style=\"color: #0087ff; text-decoration-color: #0087ff\">AveragePooling2D</span>)                   │                             │                 │\n",
              "├──────────────────────────────────────┼─────────────────────────────┼─────────────────┤\n",
              "│ dropout_11 (<span style=\"color: #0087ff; text-decoration-color: #0087ff\">Dropout</span>)                 │ (<span style=\"color: #00d7ff; text-decoration-color: #00d7ff\">None</span>, <span style=\"color: #00af00; text-decoration-color: #00af00\">1</span>, <span style=\"color: #00af00; text-decoration-color: #00af00\">19</span>, <span style=\"color: #00af00; text-decoration-color: #00af00\">16</span>)           │               <span style=\"color: #00af00; text-decoration-color: #00af00\">0</span> │\n",
              "├──────────────────────────────────────┼─────────────────────────────┼─────────────────┤\n",
              "│ flatten_10 (<span style=\"color: #0087ff; text-decoration-color: #0087ff\">Flatten</span>)                 │ (<span style=\"color: #00d7ff; text-decoration-color: #00d7ff\">None</span>, <span style=\"color: #00af00; text-decoration-color: #00af00\">304</span>)                 │               <span style=\"color: #00af00; text-decoration-color: #00af00\">0</span> │\n",
              "├──────────────────────────────────────┼─────────────────────────────┼─────────────────┤\n",
              "│ dense_15 (<span style=\"color: #0087ff; text-decoration-color: #0087ff\">Dense</span>)                     │ (<span style=\"color: #00d7ff; text-decoration-color: #00d7ff\">None</span>, <span style=\"color: #00af00; text-decoration-color: #00af00\">5</span>)                   │           <span style=\"color: #00af00; text-decoration-color: #00af00\">1,525</span> │\n",
              "├──────────────────────────────────────┼─────────────────────────────┼─────────────────┤\n",
              "│ activation_17 (<span style=\"color: #0087ff; text-decoration-color: #0087ff\">Activation</span>)           │ (<span style=\"color: #00d7ff; text-decoration-color: #00d7ff\">None</span>, <span style=\"color: #00af00; text-decoration-color: #00af00\">5</span>)                   │               <span style=\"color: #00af00; text-decoration-color: #00af00\">0</span> │\n",
              "└──────────────────────────────────────┴─────────────────────────────┴─────────────────┘\n",
              "</pre>\n"
            ]
          },
          "metadata": {}
        },
        {
          "output_type": "display_data",
          "data": {
            "text/plain": [
              "\u001b[1m Total params: \u001b[0m\u001b[38;5;34m4,373\u001b[0m (17.08 KB)\n"
            ],
            "text/html": [
              "<pre style=\"white-space:pre;overflow-x:auto;line-height:normal;font-family:Menlo,'DejaVu Sans Mono',consolas,'Courier New',monospace\"><span style=\"font-weight: bold\"> Total params: </span><span style=\"color: #00af00; text-decoration-color: #00af00\">4,373</span> (17.08 KB)\n",
              "</pre>\n"
            ]
          },
          "metadata": {}
        },
        {
          "output_type": "display_data",
          "data": {
            "text/plain": [
              "\u001b[1m Trainable params: \u001b[0m\u001b[38;5;34m4,245\u001b[0m (16.58 KB)\n"
            ],
            "text/html": [
              "<pre style=\"white-space:pre;overflow-x:auto;line-height:normal;font-family:Menlo,'DejaVu Sans Mono',consolas,'Courier New',monospace\"><span style=\"font-weight: bold\"> Trainable params: </span><span style=\"color: #00af00; text-decoration-color: #00af00\">4,245</span> (16.58 KB)\n",
              "</pre>\n"
            ]
          },
          "metadata": {}
        },
        {
          "output_type": "display_data",
          "data": {
            "text/plain": [
              "\u001b[1m Non-trainable params: \u001b[0m\u001b[38;5;34m128\u001b[0m (512.00 B)\n"
            ],
            "text/html": [
              "<pre style=\"white-space:pre;overflow-x:auto;line-height:normal;font-family:Menlo,'DejaVu Sans Mono',consolas,'Courier New',monospace\"><span style=\"font-weight: bold\"> Non-trainable params: </span><span style=\"color: #00af00; text-decoration-color: #00af00\">128</span> (512.00 B)\n",
              "</pre>\n"
            ]
          },
          "metadata": {}
        },
        {
          "output_type": "stream",
          "name": "stdout",
          "text": [
            "None\n",
            "Epoch 1/100\n",
            "\u001b[1m10/10\u001b[0m \u001b[32m━━━━━━━━━━━━━━━━━━━━\u001b[0m\u001b[37m\u001b[0m \u001b[1m13s\u001b[0m 879ms/step - accuracy: 0.3055 - loss: 1.6051 - val_accuracy: 0.2500 - val_loss: 1.6060\n",
            "Epoch 2/100\n",
            "\u001b[1m10/10\u001b[0m \u001b[32m━━━━━━━━━━━━━━━━━━━━\u001b[0m\u001b[37m\u001b[0m \u001b[1m11s\u001b[0m 1s/step - accuracy: 0.3203 - loss: 1.4795 - val_accuracy: 0.2635 - val_loss: 1.5923\n",
            "Epoch 3/100\n",
            "\u001b[1m10/10\u001b[0m \u001b[32m━━━━━━━━━━━━━━━━━━━━\u001b[0m\u001b[37m\u001b[0m \u001b[1m18s\u001b[0m 874ms/step - accuracy: 0.3001 - loss: 1.4144 - val_accuracy: 0.2770 - val_loss: 1.5601\n",
            "Epoch 4/100\n",
            "\u001b[1m10/10\u001b[0m \u001b[32m━━━━━━━━━━━━━━━━━━━━\u001b[0m\u001b[37m\u001b[0m \u001b[1m9s\u001b[0m 786ms/step - accuracy: 0.3360 - loss: 1.3705 - val_accuracy: 0.2838 - val_loss: 1.5284\n",
            "Epoch 5/100\n",
            "\u001b[1m10/10\u001b[0m \u001b[32m━━━━━━━━━━━━━━━━━━━━\u001b[0m\u001b[37m\u001b[0m \u001b[1m10s\u001b[0m 1s/step - accuracy: 0.3661 - loss: 1.3278 - val_accuracy: 0.2973 - val_loss: 1.5010\n",
            "Epoch 6/100\n",
            "\u001b[1m10/10\u001b[0m \u001b[32m━━━━━━━━━━━━━━━━━━━━\u001b[0m\u001b[37m\u001b[0m \u001b[1m8s\u001b[0m 796ms/step - accuracy: 0.3102 - loss: 1.3219 - val_accuracy: 0.2973 - val_loss: 1.4720\n",
            "Epoch 7/100\n",
            "\u001b[1m10/10\u001b[0m \u001b[32m━━━━━━━━━━━━━━━━━━━━\u001b[0m\u001b[37m\u001b[0m \u001b[1m10s\u001b[0m 770ms/step - accuracy: 0.3969 - loss: 1.3219 - val_accuracy: 0.2973 - val_loss: 1.4500\n",
            "Epoch 8/100\n",
            "\u001b[1m10/10\u001b[0m \u001b[32m━━━━━━━━━━━━━━━━━━━━\u001b[0m\u001b[37m\u001b[0m \u001b[1m10s\u001b[0m 1s/step - accuracy: 0.3725 - loss: 1.3000 - val_accuracy: 0.2973 - val_loss: 1.4356\n",
            "Epoch 9/100\n",
            "\u001b[1m10/10\u001b[0m \u001b[32m━━━━━━━━━━━━━━━━━━━━\u001b[0m\u001b[37m\u001b[0m \u001b[1m8s\u001b[0m 768ms/step - accuracy: 0.3558 - loss: 1.2812 - val_accuracy: 0.3041 - val_loss: 1.4198\n",
            "Epoch 10/100\n",
            "\u001b[1m10/10\u001b[0m \u001b[32m━━━━━━━━━━━━━━━━━━━━\u001b[0m\u001b[37m\u001b[0m \u001b[1m11s\u001b[0m 1s/step - accuracy: 0.3574 - loss: 1.2562 - val_accuracy: 0.2905 - val_loss: 1.4069\n",
            "Epoch 11/100\n",
            "\u001b[1m10/10\u001b[0m \u001b[32m━━━━━━━━━━━━━━━━━━━━\u001b[0m\u001b[37m\u001b[0m \u001b[1m17s\u001b[0m 779ms/step - accuracy: 0.3573 - loss: 1.2761 - val_accuracy: 0.2703 - val_loss: 1.3978\n",
            "Epoch 12/100\n",
            "\u001b[1m10/10\u001b[0m \u001b[32m━━━━━━━━━━━━━━━━━━━━\u001b[0m\u001b[37m\u001b[0m \u001b[1m10s\u001b[0m 1s/step - accuracy: 0.3761 - loss: 1.2538 - val_accuracy: 0.2838 - val_loss: 1.3812\n",
            "Epoch 13/100\n",
            "\u001b[1m10/10\u001b[0m \u001b[32m━━━━━━━━━━━━━━━━━━━━\u001b[0m\u001b[37m\u001b[0m \u001b[1m11s\u001b[0m 1s/step - accuracy: 0.3977 - loss: 1.2595 - val_accuracy: 0.3108 - val_loss: 1.3717\n",
            "Epoch 14/100\n",
            "\u001b[1m10/10\u001b[0m \u001b[32m━━━━━━━━━━━━━━━━━━━━\u001b[0m\u001b[37m\u001b[0m \u001b[1m20s\u001b[0m 1s/step - accuracy: 0.3759 - loss: 1.2633 - val_accuracy: 0.3108 - val_loss: 1.3691\n",
            "Epoch 15/100\n",
            "\u001b[1m10/10\u001b[0m \u001b[32m━━━━━━━━━━━━━━━━━━━━\u001b[0m\u001b[37m\u001b[0m \u001b[1m18s\u001b[0m 786ms/step - accuracy: 0.3672 - loss: 1.2646 - val_accuracy: 0.3041 - val_loss: 1.3668\n",
            "Epoch 16/100\n",
            "\u001b[1m10/10\u001b[0m \u001b[32m━━━━━━━━━━━━━━━━━━━━\u001b[0m\u001b[37m\u001b[0m \u001b[1m12s\u001b[0m 972ms/step - accuracy: 0.3677 - loss: 1.2245 - val_accuracy: 0.2905 - val_loss: 1.3638\n",
            "Epoch 17/100\n",
            "\u001b[1m10/10\u001b[0m \u001b[32m━━━━━━━━━━━━━━━━━━━━\u001b[0m\u001b[37m\u001b[0m \u001b[1m10s\u001b[0m 1s/step - accuracy: 0.3652 - loss: 1.2300 - val_accuracy: 0.3176 - val_loss: 1.3538\n",
            "Epoch 18/100\n",
            "\u001b[1m10/10\u001b[0m \u001b[32m━━━━━━━━━━━━━━━━━━━━\u001b[0m\u001b[37m\u001b[0m \u001b[1m8s\u001b[0m 796ms/step - accuracy: 0.3558 - loss: 1.1974 - val_accuracy: 0.2973 - val_loss: 1.3524\n",
            "Epoch 19/100\n",
            "\u001b[1m10/10\u001b[0m \u001b[32m━━━━━━━━━━━━━━━━━━━━\u001b[0m\u001b[37m\u001b[0m \u001b[1m12s\u001b[0m 971ms/step - accuracy: 0.3836 - loss: 1.2266 - val_accuracy: 0.2973 - val_loss: 1.3475\n",
            "Epoch 20/100\n",
            "\u001b[1m10/10\u001b[0m \u001b[32m━━━━━━━━━━━━━━━━━━━━\u001b[0m\u001b[37m\u001b[0m \u001b[1m10s\u001b[0m 1s/step - accuracy: 0.3740 - loss: 1.2159 - val_accuracy: 0.2973 - val_loss: 1.3392\n",
            "Epoch 21/100\n",
            "\u001b[1m10/10\u001b[0m \u001b[32m━━━━━━━━━━━━━━━━━━━━\u001b[0m\u001b[37m\u001b[0m \u001b[1m21s\u001b[0m 990ms/step - accuracy: 0.4098 - loss: 1.2154 - val_accuracy: 0.2973 - val_loss: 1.3324\n",
            "Epoch 22/100\n",
            "\u001b[1m10/10\u001b[0m \u001b[32m━━━━━━━━━━━━━━━━━━━━\u001b[0m\u001b[37m\u001b[0m \u001b[1m18s\u001b[0m 832ms/step - accuracy: 0.3680 - loss: 1.2160 - val_accuracy: 0.3176 - val_loss: 1.3206\n",
            "Epoch 23/100\n",
            "\u001b[1m10/10\u001b[0m \u001b[32m━━━━━━━━━━━━━━━━━━━━\u001b[0m\u001b[37m\u001b[0m \u001b[1m11s\u001b[0m 832ms/step - accuracy: 0.3654 - loss: 1.1964 - val_accuracy: 0.2703 - val_loss: 1.3168\n",
            "Epoch 24/100\n",
            "\u001b[1m10/10\u001b[0m \u001b[32m━━━━━━━━━━━━━━━━━━━━\u001b[0m\u001b[37m\u001b[0m \u001b[1m12s\u001b[0m 1s/step - accuracy: 0.3684 - loss: 1.2246 - val_accuracy: 0.2770 - val_loss: 1.3183\n",
            "Epoch 25/100\n",
            "\u001b[1m10/10\u001b[0m \u001b[32m━━━━━━━━━━━━━━━━━━━━\u001b[0m\u001b[37m\u001b[0m \u001b[1m18s\u001b[0m 784ms/step - accuracy: 0.3978 - loss: 1.2104 - val_accuracy: 0.3108 - val_loss: 1.3173\n",
            "Epoch 26/100\n",
            "\u001b[1m10/10\u001b[0m \u001b[32m━━━━━━━━━━━━━━━━━━━━\u001b[0m\u001b[37m\u001b[0m \u001b[1m11s\u001b[0m 1s/step - accuracy: 0.4304 - loss: 1.1963 - val_accuracy: 0.2905 - val_loss: 1.3238\n",
            "Epoch 27/100\n",
            "\u001b[1m10/10\u001b[0m \u001b[32m━━━━━━━━━━━━━━━━━━━━\u001b[0m\u001b[37m\u001b[0m \u001b[1m18s\u001b[0m 795ms/step - accuracy: 0.4242 - loss: 1.1776 - val_accuracy: 0.2770 - val_loss: 1.3168\n",
            "Epoch 28/100\n",
            "\u001b[1m10/10\u001b[0m \u001b[32m━━━━━━━━━━━━━━━━━━━━\u001b[0m\u001b[37m\u001b[0m \u001b[1m12s\u001b[0m 912ms/step - accuracy: 0.4067 - loss: 1.1862 - val_accuracy: 0.2838 - val_loss: 1.3112\n",
            "Epoch 29/100\n",
            "\u001b[1m10/10\u001b[0m \u001b[32m━━━━━━━━━━━━━━━━━━━━\u001b[0m\u001b[37m\u001b[0m \u001b[1m11s\u001b[0m 1s/step - accuracy: 0.4025 - loss: 1.1874 - val_accuracy: 0.3176 - val_loss: 1.3145\n",
            "Epoch 30/100\n",
            "\u001b[1m10/10\u001b[0m \u001b[32m━━━━━━━━━━━━━━━━━━━━\u001b[0m\u001b[37m\u001b[0m \u001b[1m20s\u001b[0m 971ms/step - accuracy: 0.4000 - loss: 1.1923 - val_accuracy: 0.3446 - val_loss: 1.3099\n",
            "Epoch 31/100\n",
            "\u001b[1m10/10\u001b[0m \u001b[32m━━━━━━━━━━━━━━━━━━━━\u001b[0m\u001b[37m\u001b[0m \u001b[1m11s\u001b[0m 1s/step - accuracy: 0.4459 - loss: 1.1763 - val_accuracy: 0.2703 - val_loss: 1.3141\n",
            "Epoch 32/100\n",
            "\u001b[1m10/10\u001b[0m \u001b[32m━━━━━━━━━━━━━━━━━━━━\u001b[0m\u001b[37m\u001b[0m \u001b[1m8s\u001b[0m 805ms/step - accuracy: 0.4223 - loss: 1.1816 - val_accuracy: 0.2905 - val_loss: 1.3213\n",
            "Epoch 33/100\n",
            "\u001b[1m10/10\u001b[0m \u001b[32m━━━━━━━━━━━━━━━━━━━━\u001b[0m\u001b[37m\u001b[0m \u001b[1m13s\u001b[0m 1s/step - accuracy: 0.4301 - loss: 1.1716 - val_accuracy: 0.2568 - val_loss: 1.3144\n",
            "Epoch 34/100\n",
            "\u001b[1m10/10\u001b[0m \u001b[32m━━━━━━━━━━━━━━━━━━━━\u001b[0m\u001b[37m\u001b[0m \u001b[1m9s\u001b[0m 888ms/step - accuracy: 0.4082 - loss: 1.1834 - val_accuracy: 0.2973 - val_loss: 1.3219\n",
            "Epoch 35/100\n",
            "\u001b[1m10/10\u001b[0m \u001b[32m━━━━━━━━━━━━━━━━━━━━\u001b[0m\u001b[37m\u001b[0m \u001b[1m10s\u001b[0m 812ms/step - accuracy: 0.4168 - loss: 1.1599 - val_accuracy: 0.3041 - val_loss: 1.3126\n",
            "Epoch 36/100\n",
            "\u001b[1m10/10\u001b[0m \u001b[32m━━━━━━━━━━━━━━━━━━━━\u001b[0m\u001b[37m\u001b[0m \u001b[1m10s\u001b[0m 1s/step - accuracy: 0.3585 - loss: 1.1794 - val_accuracy: 0.3108 - val_loss: 1.3169\n",
            "Epoch 37/100\n",
            "\u001b[1m10/10\u001b[0m \u001b[32m━━━━━━━━━━━━━━━━━━━━\u001b[0m\u001b[37m\u001b[0m \u001b[1m9s\u001b[0m 915ms/step - accuracy: 0.4339 - loss: 1.1603 - val_accuracy: 0.2973 - val_loss: 1.3208\n",
            "Epoch 38/100\n",
            "\u001b[1m10/10\u001b[0m \u001b[32m━━━━━━━━━━━━━━━━━━━━\u001b[0m\u001b[37m\u001b[0m \u001b[1m10s\u001b[0m 809ms/step - accuracy: 0.3754 - loss: 1.1994 - val_accuracy: 0.2905 - val_loss: 1.3277\n",
            "Epoch 39/100\n",
            "\u001b[1m10/10\u001b[0m \u001b[32m━━━━━━━━━━━━━━━━━━━━\u001b[0m\u001b[37m\u001b[0m \u001b[1m12s\u001b[0m 1s/step - accuracy: 0.4407 - loss: 1.1640 - val_accuracy: 0.2770 - val_loss: 1.3258\n",
            "Epoch 40/100\n",
            "\u001b[1m10/10\u001b[0m \u001b[32m━━━━━━━━━━━━━━━━━━━━\u001b[0m\u001b[37m\u001b[0m \u001b[1m18s\u001b[0m 793ms/step - accuracy: 0.4586 - loss: 1.1749 - val_accuracy: 0.3108 - val_loss: 1.3228\n",
            "Epoch 41/100\n",
            "\u001b[1m10/10\u001b[0m \u001b[32m━━━━━━━━━━━━━━━━━━━━\u001b[0m\u001b[37m\u001b[0m \u001b[1m12s\u001b[0m 940ms/step - accuracy: 0.4313 - loss: 1.1689 - val_accuracy: 0.2838 - val_loss: 1.3255\n",
            "Epoch 42/100\n",
            "\u001b[1m10/10\u001b[0m \u001b[32m━━━━━━━━━━━━━━━━━━━━\u001b[0m\u001b[37m\u001b[0m \u001b[1m10s\u001b[0m 1s/step - accuracy: 0.4484 - loss: 1.1500 - val_accuracy: 0.2703 - val_loss: 1.3463\n",
            "Epoch 43/100\n",
            "\u001b[1m10/10\u001b[0m \u001b[32m━━━━━━━━━━━━━━━━━━━━\u001b[0m\u001b[37m\u001b[0m \u001b[1m8s\u001b[0m 803ms/step - accuracy: 0.4431 - loss: 1.1544 - val_accuracy: 0.2635 - val_loss: 1.3435\n",
            "Epoch 44/100\n",
            "\u001b[1m10/10\u001b[0m \u001b[32m━━━━━━━━━━━━━━━━━━━━\u001b[0m\u001b[37m\u001b[0m \u001b[1m12s\u001b[0m 957ms/step - accuracy: 0.3670 - loss: 1.1664 - val_accuracy: 0.2905 - val_loss: 1.3435\n",
            "Epoch 45/100\n",
            "\u001b[1m10/10\u001b[0m \u001b[32m━━━━━━━━━━━━━━━━━━━━\u001b[0m\u001b[37m\u001b[0m \u001b[1m11s\u001b[0m 1s/step - accuracy: 0.4442 - loss: 1.1674 - val_accuracy: 0.2973 - val_loss: 1.3328\n",
            "Epoch 46/100\n",
            "\u001b[1m10/10\u001b[0m \u001b[32m━━━━━━━━━━━━━━━━━━━━\u001b[0m\u001b[37m\u001b[0m \u001b[1m20s\u001b[0m 1s/step - accuracy: 0.4486 - loss: 1.1324 - val_accuracy: 0.2905 - val_loss: 1.3366\n",
            "Epoch 47/100\n",
            "\u001b[1m10/10\u001b[0m \u001b[32m━━━━━━━━━━━━━━━━━━━━\u001b[0m\u001b[37m\u001b[0m \u001b[1m18s\u001b[0m 804ms/step - accuracy: 0.4139 - loss: 1.1464 - val_accuracy: 0.2973 - val_loss: 1.3409\n",
            "Epoch 48/100\n",
            "\u001b[1m10/10\u001b[0m \u001b[32m━━━━━━━━━━━━━━━━━━━━\u001b[0m\u001b[37m\u001b[0m \u001b[1m11s\u001b[0m 813ms/step - accuracy: 0.4254 - loss: 1.1723 - val_accuracy: 0.2838 - val_loss: 1.3326\n",
            "Epoch 49/100\n",
            "\u001b[1m10/10\u001b[0m \u001b[32m━━━━━━━━━━━━━━━━━━━━\u001b[0m\u001b[37m\u001b[0m \u001b[1m12s\u001b[0m 1s/step - accuracy: 0.4205 - loss: 1.1514 - val_accuracy: 0.2973 - val_loss: 1.3385\n",
            "Epoch 50/100\n",
            "\u001b[1m10/10\u001b[0m \u001b[32m━━━━━━━━━━━━━━━━━━━━\u001b[0m\u001b[37m\u001b[0m \u001b[1m23s\u001b[0m 1s/step - accuracy: 0.4268 - loss: 1.1479 - val_accuracy: 0.2905 - val_loss: 1.3521\n",
            "Epoch 51/100\n",
            "\u001b[1m10/10\u001b[0m \u001b[32m━━━━━━━━━━━━━━━━━━━━\u001b[0m\u001b[37m\u001b[0m \u001b[1m17s\u001b[0m 1s/step - accuracy: 0.4241 - loss: 1.1521 - val_accuracy: 0.2703 - val_loss: 1.3520\n",
            "Epoch 52/100\n",
            "\u001b[1m10/10\u001b[0m \u001b[32m━━━━━━━━━━━━━━━━━━━━\u001b[0m\u001b[37m\u001b[0m \u001b[1m8s\u001b[0m 792ms/step - accuracy: 0.4632 - loss: 1.1241 - val_accuracy: 0.2770 - val_loss: 1.3535\n",
            "Epoch 53/100\n",
            "\u001b[1m10/10\u001b[0m \u001b[32m━━━━━━━━━━━━━━━━━━━━\u001b[0m\u001b[37m\u001b[0m \u001b[1m10s\u001b[0m 1s/step - accuracy: 0.4231 - loss: 1.1269 - val_accuracy: 0.3176 - val_loss: 1.3669\n",
            "Epoch 54/100\n",
            "\u001b[1m10/10\u001b[0m \u001b[32m━━━━━━━━━━━━━━━━━━━━\u001b[0m\u001b[37m\u001b[0m \u001b[1m20s\u001b[0m 926ms/step - accuracy: 0.4141 - loss: 1.1741 - val_accuracy: 0.2770 - val_loss: 1.3449\n",
            "Epoch 55/100\n",
            "\u001b[1m10/10\u001b[0m \u001b[32m━━━━━━━━━━━━━━━━━━━━\u001b[0m\u001b[37m\u001b[0m \u001b[1m11s\u001b[0m 1s/step - accuracy: 0.4129 - loss: 1.1598 - val_accuracy: 0.2770 - val_loss: 1.3370\n",
            "Epoch 56/100\n",
            "\u001b[1m10/10\u001b[0m \u001b[32m━━━━━━━━━━━━━━━━━━━━\u001b[0m\u001b[37m\u001b[0m \u001b[1m20s\u001b[0m 925ms/step - accuracy: 0.4068 - loss: 1.1639 - val_accuracy: 0.2973 - val_loss: 1.3526\n",
            "Epoch 57/100\n",
            "\u001b[1m10/10\u001b[0m \u001b[32m━━━━━━━━━━━━━━━━━━━━\u001b[0m\u001b[37m\u001b[0m \u001b[1m13s\u001b[0m 1s/step - accuracy: 0.4241 - loss: 1.1726 - val_accuracy: 0.2905 - val_loss: 1.3536\n",
            "Epoch 58/100\n",
            "\u001b[1m10/10\u001b[0m \u001b[32m━━━━━━━━━━━━━━━━━━━━\u001b[0m\u001b[37m\u001b[0m \u001b[1m23s\u001b[0m 1s/step - accuracy: 0.4277 - loss: 1.1292 - val_accuracy: 0.2973 - val_loss: 1.3576\n",
            "Epoch 59/100\n",
            "\u001b[1m10/10\u001b[0m \u001b[32m━━━━━━━━━━━━━━━━━━━━\u001b[0m\u001b[37m\u001b[0m \u001b[1m14s\u001b[0m 812ms/step - accuracy: 0.4636 - loss: 1.1193 - val_accuracy: 0.2905 - val_loss: 1.3556\n",
            "Epoch 60/100\n",
            "\u001b[1m10/10\u001b[0m \u001b[32m━━━━━━━━━━━━━━━━━━━━\u001b[0m\u001b[37m\u001b[0m \u001b[1m10s\u001b[0m 780ms/step - accuracy: 0.4535 - loss: 1.1376 - val_accuracy: 0.2905 - val_loss: 1.3519\n",
            "Epoch 61/100\n",
            "\u001b[1m10/10\u001b[0m \u001b[32m━━━━━━━━━━━━━━━━━━━━\u001b[0m\u001b[37m\u001b[0m \u001b[1m10s\u001b[0m 1s/step - accuracy: 0.4493 - loss: 1.1023 - val_accuracy: 0.3041 - val_loss: 1.3423\n",
            "Epoch 62/100\n",
            "\u001b[1m10/10\u001b[0m \u001b[32m━━━━━━━━━━━━━━━━━━━━\u001b[0m\u001b[37m\u001b[0m \u001b[1m8s\u001b[0m 776ms/step - accuracy: 0.4542 - loss: 1.1270 - val_accuracy: 0.2770 - val_loss: 1.3565\n",
            "Epoch 63/100\n",
            "\u001b[1m10/10\u001b[0m \u001b[32m━━━━━━━━━━━━━━━━━━━━\u001b[0m\u001b[37m\u001b[0m \u001b[1m11s\u001b[0m 796ms/step - accuracy: 0.4659 - loss: 1.1201 - val_accuracy: 0.2770 - val_loss: 1.3689\n",
            "Epoch 64/100\n",
            "\u001b[1m10/10\u001b[0m \u001b[32m━━━━━━━━━━━━━━━━━━━━\u001b[0m\u001b[37m\u001b[0m \u001b[1m12s\u001b[0m 1s/step - accuracy: 0.4635 - loss: 1.1295 - val_accuracy: 0.2635 - val_loss: 1.3743\n",
            "Epoch 65/100\n",
            "\u001b[1m10/10\u001b[0m \u001b[32m━━━━━━━━━━━━━━━━━━━━\u001b[0m\u001b[37m\u001b[0m \u001b[1m8s\u001b[0m 816ms/step - accuracy: 0.4311 - loss: 1.1286 - val_accuracy: 0.2973 - val_loss: 1.3853\n",
            "Epoch 66/100\n",
            "\u001b[1m10/10\u001b[0m \u001b[32m━━━━━━━━━━━━━━━━━━━━\u001b[0m\u001b[37m\u001b[0m \u001b[1m11s\u001b[0m 847ms/step - accuracy: 0.4316 - loss: 1.1146 - val_accuracy: 0.3176 - val_loss: 1.3752\n",
            "Epoch 67/100\n",
            "\u001b[1m10/10\u001b[0m \u001b[32m━━━━━━━━━━━━━━━━━━━━\u001b[0m\u001b[37m\u001b[0m \u001b[1m12s\u001b[0m 1s/step - accuracy: 0.4057 - loss: 1.1386 - val_accuracy: 0.2770 - val_loss: 1.3925\n",
            "Epoch 68/100\n",
            "\u001b[1m10/10\u001b[0m \u001b[32m━━━━━━━━━━━━━━━━━━━━\u001b[0m\u001b[37m\u001b[0m \u001b[1m20s\u001b[0m 953ms/step - accuracy: 0.4343 - loss: 1.1485 - val_accuracy: 0.2432 - val_loss: 1.3818\n",
            "Epoch 69/100\n",
            "\u001b[1m10/10\u001b[0m \u001b[32m━━━━━━━━━━━━━━━━━━━━\u001b[0m\u001b[37m\u001b[0m \u001b[1m10s\u001b[0m 878ms/step - accuracy: 0.4722 - loss: 1.1216 - val_accuracy: 0.2635 - val_loss: 1.3898\n",
            "Epoch 70/100\n",
            "\u001b[1m10/10\u001b[0m \u001b[32m━━━━━━━━━━━━━━━━━━━━\u001b[0m\u001b[37m\u001b[0m \u001b[1m11s\u001b[0m 1s/step - accuracy: 0.4349 - loss: 1.1386 - val_accuracy: 0.2635 - val_loss: 1.3965\n",
            "Epoch 71/100\n",
            "\u001b[1m10/10\u001b[0m \u001b[32m━━━━━━━━━━━━━━━━━━━━\u001b[0m\u001b[37m\u001b[0m \u001b[1m19s\u001b[0m 876ms/step - accuracy: 0.4013 - loss: 1.1577 - val_accuracy: 0.3176 - val_loss: 1.3827\n",
            "Epoch 72/100\n",
            "\u001b[1m10/10\u001b[0m \u001b[32m━━━━━━━━━━━━━━━━━━━━\u001b[0m\u001b[37m\u001b[0m \u001b[1m10s\u001b[0m 1s/step - accuracy: 0.4567 - loss: 1.1016 - val_accuracy: 0.3108 - val_loss: 1.3506\n",
            "Epoch 73/100\n",
            "\u001b[1m10/10\u001b[0m \u001b[32m━━━━━━━━━━━━━━━━━━━━\u001b[0m\u001b[37m\u001b[0m \u001b[1m20s\u001b[0m 936ms/step - accuracy: 0.4600 - loss: 1.1382 - val_accuracy: 0.2770 - val_loss: 1.3430\n",
            "Epoch 74/100\n",
            "\u001b[1m10/10\u001b[0m \u001b[32m━━━━━━━━━━━━━━━━━━━━\u001b[0m\u001b[37m\u001b[0m \u001b[1m11s\u001b[0m 1s/step - accuracy: 0.4582 - loss: 1.1210 - val_accuracy: 0.2838 - val_loss: 1.3625\n",
            "Epoch 75/100\n",
            "\u001b[1m10/10\u001b[0m \u001b[32m━━━━━━━━━━━━━━━━━━━━\u001b[0m\u001b[37m\u001b[0m \u001b[1m21s\u001b[0m 1s/step - accuracy: 0.4316 - loss: 1.1129 - val_accuracy: 0.3378 - val_loss: 1.3819\n",
            "Epoch 76/100\n",
            "\u001b[1m10/10\u001b[0m \u001b[32m━━━━━━━━━━━━━━━━━━━━\u001b[0m\u001b[37m\u001b[0m \u001b[1m17s\u001b[0m 783ms/step - accuracy: 0.4628 - loss: 1.1183 - val_accuracy: 0.2703 - val_loss: 1.4423\n",
            "Epoch 77/100\n",
            "\u001b[1m10/10\u001b[0m \u001b[32m━━━━━━━━━━━━━━━━━━━━\u001b[0m\u001b[37m\u001b[0m \u001b[1m12s\u001b[0m 940ms/step - accuracy: 0.4467 - loss: 1.0994 - val_accuracy: 0.2770 - val_loss: 1.4179\n",
            "Epoch 78/100\n",
            "\u001b[1m10/10\u001b[0m \u001b[32m━━━━━━━━━━━━━━━━━━━━\u001b[0m\u001b[37m\u001b[0m \u001b[1m10s\u001b[0m 1s/step - accuracy: 0.4246 - loss: 1.1564 - val_accuracy: 0.3041 - val_loss: 1.3955\n",
            "Epoch 79/100\n",
            "\u001b[1m10/10\u001b[0m \u001b[32m━━━━━━━━━━━━━━━━━━━━\u001b[0m\u001b[37m\u001b[0m \u001b[1m20s\u001b[0m 951ms/step - accuracy: 0.4467 - loss: 1.1115 - val_accuracy: 0.3041 - val_loss: 1.4102\n",
            "Epoch 80/100\n",
            "\u001b[1m10/10\u001b[0m \u001b[32m━━━━━━━━━━━━━━━━━━━━\u001b[0m\u001b[37m\u001b[0m \u001b[1m10s\u001b[0m 1s/step - accuracy: 0.4039 - loss: 1.1609 - val_accuracy: 0.2500 - val_loss: 1.3763\n",
            "Epoch 81/100\n",
            "\u001b[1m10/10\u001b[0m \u001b[32m━━━━━━━━━━━━━━━━━━━━\u001b[0m\u001b[37m\u001b[0m \u001b[1m8s\u001b[0m 771ms/step - accuracy: 0.4823 - loss: 1.1119 - val_accuracy: 0.2703 - val_loss: 1.3910\n",
            "Epoch 82/100\n",
            "\u001b[1m10/10\u001b[0m \u001b[32m━━━━━━━━━━━━━━━━━━━━\u001b[0m\u001b[37m\u001b[0m \u001b[1m10s\u001b[0m 1s/step - accuracy: 0.4615 - loss: 1.1482 - val_accuracy: 0.2838 - val_loss: 1.4128\n",
            "Epoch 83/100\n",
            "\u001b[1m10/10\u001b[0m \u001b[32m━━━━━━━━━━━━━━━━━━━━\u001b[0m\u001b[37m\u001b[0m \u001b[1m8s\u001b[0m 789ms/step - accuracy: 0.4275 - loss: 1.1368 - val_accuracy: 0.2635 - val_loss: 1.4235\n",
            "Epoch 84/100\n",
            "\u001b[1m10/10\u001b[0m \u001b[32m━━━━━━━━━━━━━━━━━━━━\u001b[0m\u001b[37m\u001b[0m \u001b[1m11s\u001b[0m 788ms/step - accuracy: 0.4404 - loss: 1.1233 - val_accuracy: 0.2568 - val_loss: 1.4088\n",
            "Epoch 85/100\n",
            "\u001b[1m10/10\u001b[0m \u001b[32m━━━━━━━━━━━━━━━━━━━━\u001b[0m\u001b[37m\u001b[0m \u001b[1m10s\u001b[0m 1s/step - accuracy: 0.4604 - loss: 1.0886 - val_accuracy: 0.2838 - val_loss: 1.4144\n",
            "Epoch 86/100\n",
            "\u001b[1m10/10\u001b[0m \u001b[32m━━━━━━━━━━━━━━━━━━━━\u001b[0m\u001b[37m\u001b[0m \u001b[1m8s\u001b[0m 816ms/step - accuracy: 0.4694 - loss: 1.1162 - val_accuracy: 0.2568 - val_loss: 1.4020\n",
            "Epoch 87/100\n",
            "\u001b[1m10/10\u001b[0m \u001b[32m━━━━━━━━━━━━━━━━━━━━\u001b[0m\u001b[37m\u001b[0m \u001b[1m10s\u001b[0m 1s/step - accuracy: 0.4143 - loss: 1.1584 - val_accuracy: 0.2838 - val_loss: 1.4182\n",
            "Epoch 88/100\n",
            "\u001b[1m10/10\u001b[0m \u001b[32m━━━━━━━━━━━━━━━━━━━━\u001b[0m\u001b[37m\u001b[0m \u001b[1m18s\u001b[0m 784ms/step - accuracy: 0.4160 - loss: 1.1234 - val_accuracy: 0.2703 - val_loss: 1.3925\n",
            "Epoch 89/100\n",
            "\u001b[1m10/10\u001b[0m \u001b[32m━━━━━━━━━━━━━━━━━━━━\u001b[0m\u001b[37m\u001b[0m \u001b[1m10s\u001b[0m 1s/step - accuracy: 0.4506 - loss: 1.1306 - val_accuracy: 0.2905 - val_loss: 1.3995\n",
            "Epoch 90/100\n",
            "\u001b[1m10/10\u001b[0m \u001b[32m━━━━━━━━━━━━━━━━━━━━\u001b[0m\u001b[37m\u001b[0m \u001b[1m9s\u001b[0m 904ms/step - accuracy: 0.4693 - loss: 1.1015 - val_accuracy: 0.2770 - val_loss: 1.4097\n",
            "Epoch 91/100\n",
            "\u001b[1m10/10\u001b[0m \u001b[32m━━━━━━━━━━━━━━━━━━━━\u001b[0m\u001b[37m\u001b[0m \u001b[1m9s\u001b[0m 865ms/step - accuracy: 0.4825 - loss: 1.1140 - val_accuracy: 0.2973 - val_loss: 1.3991\n",
            "Epoch 92/100\n",
            "\u001b[1m10/10\u001b[0m \u001b[32m━━━━━━━━━━━━━━━━━━━━\u001b[0m\u001b[37m\u001b[0m \u001b[1m10s\u001b[0m 1s/step - accuracy: 0.4370 - loss: 1.1286 - val_accuracy: 0.2635 - val_loss: 1.4122\n",
            "Epoch 93/100\n",
            "\u001b[1m10/10\u001b[0m \u001b[32m━━━━━━━━━━━━━━━━━━━━\u001b[0m\u001b[37m\u001b[0m \u001b[1m20s\u001b[0m 924ms/step - accuracy: 0.4752 - loss: 1.1011 - val_accuracy: 0.2635 - val_loss: 1.4233\n",
            "Epoch 94/100\n",
            "\u001b[1m10/10\u001b[0m \u001b[32m━━━━━━━━━━━━━━━━━━━━\u001b[0m\u001b[37m\u001b[0m \u001b[1m10s\u001b[0m 1s/step - accuracy: 0.4889 - loss: 1.1041 - val_accuracy: 0.2770 - val_loss: 1.4242\n",
            "Epoch 95/100\n",
            "\u001b[1m10/10\u001b[0m \u001b[32m━━━━━━━━━━━━━━━━━━━━\u001b[0m\u001b[37m\u001b[0m \u001b[1m8s\u001b[0m 792ms/step - accuracy: 0.4239 - loss: 1.1093 - val_accuracy: 0.2568 - val_loss: 1.4139\n",
            "Epoch 96/100\n",
            "\u001b[1m10/10\u001b[0m \u001b[32m━━━━━━━━━━━━━━━━━━━━\u001b[0m\u001b[37m\u001b[0m \u001b[1m12s\u001b[0m 938ms/step - accuracy: 0.4632 - loss: 1.1260 - val_accuracy: 0.2770 - val_loss: 1.3997\n",
            "Epoch 97/100\n",
            "\u001b[1m10/10\u001b[0m \u001b[32m━━━━━━━━━━━━━━━━━━━━\u001b[0m\u001b[37m\u001b[0m \u001b[1m12s\u001b[0m 1s/step - accuracy: 0.4910 - loss: 1.0888 - val_accuracy: 0.2770 - val_loss: 1.4062\n",
            "Epoch 98/100\n",
            "\u001b[1m10/10\u001b[0m \u001b[32m━━━━━━━━━━━━━━━━━━━━\u001b[0m\u001b[37m\u001b[0m \u001b[1m8s\u001b[0m 759ms/step - accuracy: 0.4568 - loss: 1.1321 - val_accuracy: 0.3041 - val_loss: 1.4499\n",
            "Epoch 99/100\n",
            "\u001b[1m10/10\u001b[0m \u001b[32m━━━━━━━━━━━━━━━━━━━━\u001b[0m\u001b[37m\u001b[0m \u001b[1m12s\u001b[0m 1s/step - accuracy: 0.4284 - loss: 1.1552 - val_accuracy: 0.2500 - val_loss: 1.4769\n",
            "Epoch 100/100\n",
            "\u001b[1m10/10\u001b[0m \u001b[32m━━━━━━━━━━━━━━━━━━━━\u001b[0m\u001b[37m\u001b[0m \u001b[1m18s\u001b[0m 787ms/step - accuracy: 0.4810 - loss: 1.0943 - val_accuracy: 0.2635 - val_loss: 1.4661\n",
            "\u001b[1m5/5\u001b[0m \u001b[32m━━━━━━━━━━━━━━━━━━━━\u001b[0m\u001b[37m\u001b[0m \u001b[1m0s\u001b[0m 66ms/step - accuracy: 0.2940 - loss: 1.5162\n",
            "Test accuracy: 0.2635135054588318\n"
          ]
        }
      ]
    },
    {
      "cell_type": "code",
      "source": [
        "model.save('my_model.keras')"
      ],
      "metadata": {
        "id": "tJx1hEtq1NOX"
      },
      "execution_count": null,
      "outputs": []
    },
    {
      "cell_type": "code",
      "source": [
        "# Evaluate the model on test data\n",
        "test_loss, test_acc = model.evaluate(X_test, y_test)\n",
        "print(f'Test accuracy: {test_acc}')"
      ],
      "metadata": {
        "colab": {
          "base_uri": "https://localhost:8080/"
        },
        "id": "z-mz--N17kdI",
        "outputId": "3ca36c72-7d8d-40ff-dc7a-91d645b43ead"
      },
      "execution_count": null,
      "outputs": [
        {
          "output_type": "stream",
          "name": "stdout",
          "text": [
            "\u001b[1m5/5\u001b[0m \u001b[32m━━━━━━━━━━━━━━━━━━━━\u001b[0m\u001b[37m\u001b[0m \u001b[1m1s\u001b[0m 119ms/step - accuracy: 0.2940 - loss: 1.5162\n",
            "Test accuracy: 0.2635135054588318\n"
          ]
        }
      ]
    },
    {
      "cell_type": "code",
      "source": [
        "# Get predictions from the model\n",
        "y_pred_prob = model.predict(X_test)\n",
        "\n",
        "# Convert probabilities to class labels (assuming a multi-class classification problem)\n",
        "y_pred_classes = np.argmax(y_pred_prob, axis=1)"
      ],
      "metadata": {
        "colab": {
          "base_uri": "https://localhost:8080/"
        },
        "id": "We2aubNS79Iy",
        "outputId": "d254ba2f-5880-44bd-9f85-07b80415de6f"
      },
      "execution_count": null,
      "outputs": [
        {
          "output_type": "stream",
          "name": "stderr",
          "text": [
            "WARNING:tensorflow:5 out of the last 13 calls to <function TensorFlowTrainer.make_predict_function.<locals>.one_step_on_data_distributed at 0x7e02741cab00> triggered tf.function retracing. Tracing is expensive and the excessive number of tracings could be due to (1) creating @tf.function repeatedly in a loop, (2) passing tensors with different shapes, (3) passing Python objects instead of tensors. For (1), please define your @tf.function outside of the loop. For (2), @tf.function has reduce_retracing=True option that can avoid unnecessary retracing. For (3), please refer to https://www.tensorflow.org/guide/function#controlling_retracing and https://www.tensorflow.org/api_docs/python/tf/function for  more details.\n"
          ]
        },
        {
          "output_type": "stream",
          "name": "stdout",
          "text": [
            "\u001b[1m5/5\u001b[0m \u001b[32m━━━━━━━━━━━━━━━━━━━━\u001b[0m\u001b[37m\u001b[0m \u001b[1m4s\u001b[0m 269ms/step\n"
          ]
        }
      ]
    },
    {
      "cell_type": "code",
      "source": [
        "from sklearn.metrics import classification_report, confusion_matrix\n",
        "\n",
        "# Assuming y_test is encoded as integers; if not, you might need to encode it\n",
        "# Get the true class labels\n",
        "y_true_classes = np.argmax(y_test, axis=1)  # Only if y_test is one-hot encoded\n",
        "\n",
        "# Print classification report\n",
        "print(classification_report(y_true_classes, y_pred_classes))\n",
        "\n",
        "# Print confusion matrix\n",
        "conf_matrix = confusion_matrix(y_true_classes, y_pred_classes)\n",
        "print(\"Confusion Matrix:\\n\", conf_matrix)"
      ],
      "metadata": {
        "colab": {
          "base_uri": "https://localhost:8080/"
        },
        "id": "1xmfxtYc8A9E",
        "outputId": "a0dc4dbd-e72e-40ff-9dc6-949725aef615"
      },
      "execution_count": null,
      "outputs": [
        {
          "output_type": "stream",
          "name": "stdout",
          "text": [
            "              precision    recall  f1-score   support\n",
            "\n",
            "           0       0.27      0.63      0.38        43\n",
            "           1       0.21      0.16      0.18        44\n",
            "           2       0.00      0.00      0.00         2\n",
            "           3       0.00      0.00      0.00         4\n",
            "           4       0.36      0.09      0.14        55\n",
            "\n",
            "    accuracy                           0.26       148\n",
            "   macro avg       0.17      0.18      0.14       148\n",
            "weighted avg       0.27      0.26      0.22       148\n",
            "\n",
            "Confusion Matrix:\n",
            " [[27 11  0  0  5]\n",
            " [33  7  0  0  4]\n",
            " [ 2  0  0  0  0]\n",
            " [ 2  2  0  0  0]\n",
            " [36 14  0  0  5]]\n"
          ]
        },
        {
          "output_type": "stream",
          "name": "stderr",
          "text": [
            "/usr/local/lib/python3.10/dist-packages/sklearn/metrics/_classification.py:1531: UndefinedMetricWarning: Precision is ill-defined and being set to 0.0 in labels with no predicted samples. Use `zero_division` parameter to control this behavior.\n",
            "  _warn_prf(average, modifier, f\"{metric.capitalize()} is\", len(result))\n",
            "/usr/local/lib/python3.10/dist-packages/sklearn/metrics/_classification.py:1531: UndefinedMetricWarning: Precision is ill-defined and being set to 0.0 in labels with no predicted samples. Use `zero_division` parameter to control this behavior.\n",
            "  _warn_prf(average, modifier, f\"{metric.capitalize()} is\", len(result))\n",
            "/usr/local/lib/python3.10/dist-packages/sklearn/metrics/_classification.py:1531: UndefinedMetricWarning: Precision is ill-defined and being set to 0.0 in labels with no predicted samples. Use `zero_division` parameter to control this behavior.\n",
            "  _warn_prf(average, modifier, f\"{metric.capitalize()} is\", len(result))\n"
          ]
        }
      ]
    },
    {
      "cell_type": "code",
      "source": [],
      "metadata": {
        "id": "pxsugKO68BRF"
      },
      "execution_count": null,
      "outputs": []
    }
  ]
}